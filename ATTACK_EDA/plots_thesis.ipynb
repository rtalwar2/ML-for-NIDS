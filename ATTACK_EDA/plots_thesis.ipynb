{
 "cells": [
  {
   "cell_type": "code",
   "execution_count": 2,
   "id": "f43dab9c-16e4-4903-80b7-ccadc5ad0a36",
   "metadata": {
    "tags": []
   },
   "outputs": [],
   "source": [
    "import numpy as np\n",
    "import pandas as pd"
   ]
  },
  {
   "cell_type": "code",
   "execution_count": 3,
   "id": "cdd1457c-def1-424f-b8d8-e9fcb26ad854",
   "metadata": {
    "tags": []
   },
   "outputs": [],
   "source": [
    "data=pd.read_parquet(\"/project_ghent/raman/netflow_datasets/nfunswnb15v2/NF-UNSW-NB15-V2.parquet\")"
   ]
  },
  {
   "cell_type": "code",
   "execution_count": 4,
   "id": "20a6297d-950a-4946-80e6-146274aec25d",
   "metadata": {
    "tags": []
   },
   "outputs": [],
   "source": [
    "training_set = data.sample(frac=0.3, replace=False,random_state=42)\n",
    "# 1%train, 99% test\n",
    "testing_set = data.drop(index=training_set.index)"
   ]
  },
  {
   "cell_type": "code",
   "execution_count": 5,
   "id": "eef5956d-0623-423e-95ac-65087ecf93fc",
   "metadata": {
    "tags": []
   },
   "outputs": [
    {
     "data": {
      "text/plain": [
       "Attack\n",
       "Benign            573514\n",
       "Exploits            8929\n",
       "Fuzzers             6196\n",
       "Reconnaissance      3356\n",
       "Generic             1839\n",
       "DoS                 1232\n",
       "Shellcode            448\n",
       "Backdoor             241\n",
       "Analysis             225\n",
       "Worms                 44\n",
       "Name: count, dtype: int64"
      ]
     },
     "execution_count": 5,
     "metadata": {},
     "output_type": "execute_result"
    }
   ],
   "source": [
    "training_set.Attack.value_counts()"
   ]
  },
  {
   "cell_type": "code",
   "execution_count": 6,
   "id": "2c4576f3-1a94-42b4-81fb-70fe772ea449",
   "metadata": {
    "tags": []
   },
   "outputs": [],
   "source": [
    "testing_set=testing_set[testing_set.Attack!=\"Worms\"]"
   ]
  },
  {
   "cell_type": "code",
   "execution_count": 7,
   "id": "699ceede-8c51-4fdf-8c08-4d29ab6c40bd",
   "metadata": {
    "tags": []
   },
   "outputs": [
    {
     "data": {
      "text/plain": [
       "array(['Benign', 'Fuzzers', 'Reconnaissance', 'Exploits', 'DoS',\n",
       "       'Generic', 'Analysis', 'Shellcode', 'Backdoor'], dtype=object)"
      ]
     },
     "execution_count": 7,
     "metadata": {},
     "output_type": "execute_result"
    }
   ],
   "source": [
    "training_set=training_set[training_set.Attack!=\"Worms\"]\n",
    "attacks=training_set.Attack.unique()\n",
    "attacks"
   ]
  },
  {
   "cell_type": "code",
   "execution_count": 8,
   "id": "b15a103b-1699-4d74-be4e-e357f94fad70",
   "metadata": {
    "tags": []
   },
   "outputs": [],
   "source": [
    "grouped = training_set.groupby(training_set.Attack)\n",
    "dfs={cat:grouped.get_group(cat) for cat in attacks[1:]}\n",
    "dfs[attacks[0]]=grouped.get_group(attacks[0]) #don't subsample normal attacks\n",
    "#dfs key=attack_cat, value is dataframe "
   ]
  },
  {
   "cell_type": "code",
   "execution_count": 9,
   "id": "386cb20e-3100-4e7d-925c-d0c4acb4d92b",
   "metadata": {
    "tags": []
   },
   "outputs": [
    {
     "name": "stdout",
     "output_type": "stream",
     "text": [
      "12392 6196 573514\n",
      "6712 3356 573514\n",
      "17858 8929 573514\n",
      "2464 1232 573514\n",
      "3678 1839 573514\n",
      "450 225 573514\n",
      "896 448 573514\n",
      "482 241 573514\n"
     ]
    }
   ],
   "source": [
    "for atk_type in attacks[1:]:\n",
    "    normals_to_sample = dfs[atk_type].shape[0]\n",
    "#     print(normals_to_sample)\n",
    "    normals_sample = dfs['Benign'].sample(normals_to_sample)\n",
    "#     dfs['Normal'] = dfs['Normal'].drop(index=normals_sample.index)#don't resample\n",
    "    dfs[atk_type] = pd.concat(objs=[dfs[atk_type], normals_sample])\n",
    "    print(dfs[atk_type].shape[0], normals_sample.shape[0], dfs['Benign'].shape[0])"
   ]
  },
  {
   "cell_type": "code",
   "execution_count": 10,
   "id": "a27b52d9-5b8c-4a64-b803-48a68ae8a56f",
   "metadata": {
    "tags": []
   },
   "outputs": [],
   "source": [
    "testing_dfs = {}\n",
    "grouped = testing_set.groupby(testing_set.Attack)\n",
    "testing_dfs={cat:grouped.get_group(cat) for cat in attacks[1:]}\n",
    "testing_dfs[attacks[0]]=grouped.get_group(attacks[0]) #don't subsample normal attacks\n",
    "#testing_dfs key=attack_cat, value is dataframe "
   ]
  },
  {
   "cell_type": "code",
   "execution_count": 11,
   "id": "a06db437-876a-41a2-8388-da280e1e89c4",
   "metadata": {
    "tags": []
   },
   "outputs": [
    {
     "name": "stdout",
     "output_type": "stream",
     "text": [
      "28898 14449 1338152\n",
      "15630 7815 1338152\n",
      "41952 20976 1338152\n",
      "5880 2940 1338152\n",
      "8306 4153 1338152\n",
      "1090 545 1338152\n",
      "1958 979 1338152\n",
      "1184 592 1338152\n"
     ]
    }
   ],
   "source": [
    "for atk_type in attacks[1:]:\n",
    "    normals_to_sample = testing_dfs[atk_type].shape[0] \n",
    "    normals_sample = testing_dfs['Benign'].sample(normals_to_sample)\n",
    "#     testing_dfs['Normal'] = testing_dfs['Normal'].drop(index=normals_sample.index)#don't resample\n",
    "    testing_dfs[atk_type] = pd.concat(objs=[testing_dfs[atk_type], normals_sample])\n",
    "    print(testing_dfs[atk_type].shape[0], normals_sample.shape[0], testing_dfs['Benign'].shape[0])"
   ]
  },
  {
   "cell_type": "code",
   "execution_count": 12,
   "id": "e9f05863-8f26-4514-8e1c-33af3a48b0ea",
   "metadata": {
    "tags": []
   },
   "outputs": [
    {
     "name": "stdout",
     "output_type": "stream",
     "text": [
      "TRAINING SETS\n",
      "Fuzzers (12392, 42)\n",
      "Label\n",
      "1    6196\n",
      "0    6196\n",
      "Name: count, dtype: int64\n",
      "Reconnaissance (6712, 42)\n",
      "Label\n",
      "1    3356\n",
      "0    3356\n",
      "Name: count, dtype: int64\n",
      "Exploits (17858, 42)\n",
      "Label\n",
      "1    8929\n",
      "0    8929\n",
      "Name: count, dtype: int64\n",
      "DoS (2464, 42)\n",
      "Label\n",
      "1    1232\n",
      "0    1232\n",
      "Name: count, dtype: int64\n",
      "Generic (3678, 42)\n",
      "Label\n",
      "1    1839\n",
      "0    1839\n",
      "Name: count, dtype: int64\n",
      "Analysis (450, 42)\n",
      "Label\n",
      "1    225\n",
      "0    225\n",
      "Name: count, dtype: int64\n",
      "Shellcode (896, 42)\n",
      "Label\n",
      "1    448\n",
      "0    448\n",
      "Name: count, dtype: int64\n",
      "Backdoor (482, 42)\n",
      "Label\n",
      "1    241\n",
      "0    241\n",
      "Name: count, dtype: int64\n",
      "Benign (573514, 42)\n",
      "Label\n",
      "0    573514\n",
      "Name: count, dtype: int64\n"
     ]
    },
    {
     "name": "stderr",
     "output_type": "stream",
     "text": [
      "/tmp/ipykernel_161/520402162.py:3: SettingWithCopyWarning: \n",
      "A value is trying to be set on a copy of a slice from a DataFrame\n",
      "\n",
      "See the caveats in the documentation: https://pandas.pydata.org/pandas-docs/stable/user_guide/indexing.html#returning-a-view-versus-a-copy\n",
      "  v.drop(columns=['Attack'], inplace=True)\n"
     ]
    }
   ],
   "source": [
    "print(f\"TRAINING SETS\")\n",
    "for k,v in dfs.items():\n",
    "    v.drop(columns=['Attack'], inplace=True)   \n",
    "    print(k, v.shape)\n",
    "    print(v['Label'].value_counts())"
   ]
  },
  {
   "cell_type": "code",
   "execution_count": 13,
   "id": "ce0d908e-ad93-425f-9ed7-f86442d0bff8",
   "metadata": {
    "tags": []
   },
   "outputs": [
    {
     "name": "stdout",
     "output_type": "stream",
     "text": [
      "TESTING SETS\n",
      "Fuzzers (28898, 42)\n",
      "Label\n",
      "1    14449\n",
      "0    14449\n",
      "Name: count, dtype: int64\n",
      "Reconnaissance (15630, 42)\n",
      "Label\n",
      "1    7815\n",
      "0    7815\n",
      "Name: count, dtype: int64\n",
      "Exploits (41952, 42)\n",
      "Label\n",
      "1    20976\n",
      "0    20976\n",
      "Name: count, dtype: int64\n",
      "DoS (5880, 42)\n",
      "Label\n",
      "1    2940\n",
      "0    2940\n",
      "Name: count, dtype: int64\n",
      "Generic (8306, 42)\n",
      "Label\n",
      "1    4153\n",
      "0    4153\n",
      "Name: count, dtype: int64\n",
      "Analysis (1090, 42)\n",
      "Label\n",
      "1    545\n",
      "0    545\n",
      "Name: count, dtype: int64\n",
      "Shellcode (1958, 42)\n",
      "Label\n",
      "1    979\n",
      "0    979\n",
      "Name: count, dtype: int64\n",
      "Backdoor (1184, 42)\n",
      "Label\n",
      "1    592\n",
      "0    592\n",
      "Name: count, dtype: int64\n",
      "Benign (1338152, 42)\n",
      "Label\n",
      "0    1338152\n",
      "Name: count, dtype: int64\n"
     ]
    },
    {
     "name": "stderr",
     "output_type": "stream",
     "text": [
      "/tmp/ipykernel_161/4161559584.py:3: SettingWithCopyWarning: \n",
      "A value is trying to be set on a copy of a slice from a DataFrame\n",
      "\n",
      "See the caveats in the documentation: https://pandas.pydata.org/pandas-docs/stable/user_guide/indexing.html#returning-a-view-versus-a-copy\n",
      "  v.drop(columns=['Attack'], inplace=True)\n"
     ]
    }
   ],
   "source": [
    "print(\"TESTING SETS\")\n",
    "for k,v in testing_dfs.items():\n",
    "    v.drop(columns=['Attack'], inplace=True)   \n",
    "    print(k, v.shape)\n",
    "    print(v['Label'].value_counts())"
   ]
  },
  {
   "cell_type": "code",
   "execution_count": 14,
   "id": "820479e5-37fe-476c-973a-e14ff60a22d9",
   "metadata": {
    "tags": []
   },
   "outputs": [],
   "source": [
    "training_dfs=dfs"
   ]
  },
  {
   "cell_type": "code",
   "execution_count": 29,
   "id": "9830022f-f87a-4388-8796-f646c7a3aead",
   "metadata": {
    "tags": []
   },
   "outputs": [
    {
     "data": {
      "image/png": "[encoded data removed]",
      "text/plain": [
       "<Figure size 1200x600 with 2 Axes>"
      ]
     },
     "metadata": {},
     "output_type": "display_data"
    }
   ],
   "source": [
    "import seaborn as sns\n",
    "import matplotlib.pyplot as plt\n",
    "# Create subplots with 1 row and 2 columns\n",
    "fig, axs = plt.subplots(1, 2, figsize=(12, 6))\n",
    "\n",
    "# Plot histogram for \"Fuzzers\" attack class\n",
    "sns.histplot(dfs[\"Fuzzers\"][dfs[\"Fuzzers\"].Label==1].MIN_TTL, stat=\"percent\", ax=axs[0])\n",
    "axs[0].set_title(\"dataset 1, attack a\")\n",
    "axs[0].set_xlabel(\"Feature X\")  # Set x-axis label for the first plot\n",
    "\n",
    "# Plot histogram for \"Backdoor\" attack class\n",
    "sns.histplot(dfs[\"Backdoor\"][dfs[\"Backdoor\"].Label==1].MIN_TTL, stat=\"percent\", ax=axs[1])\n",
    "axs[1].set_title(\"dataset 1, attack b\")\n",
    "axs[1].set_xlabel(\"Feature X\")  # Set x-axis label for the first plot\n",
    "\n",
    "\n",
    "# Adjust spacing between subplots\n",
    "plt.tight_layout()\n",
    "\n",
    "# Show the plot\n",
    "plt.show()"
   ]
  },
  {
   "cell_type": "code",
   "execution_count": 24,
   "id": "1babc7a2-e1e5-4ead-bbfb-31ae70e8412f",
   "metadata": {
    "tags": []
   },
   "outputs": [
    {
     "data": {
      "image/png": "[encoded data removed]",
      "text/plain": [
       "<Figure size 1200x600 with 2 Axes>"
      ]
     },
     "metadata": {},
     "output_type": "display_data"
    }
   ],
   "source": [
    "import seaborn as sns\n",
    "import matplotlib.pyplot as plt\n",
    "# Create subplots with 1 row and 2 columns\n",
    "fig, axs = plt.subplots(1, 2, figsize=(12, 6))\n",
    "\n",
    "# Plot histogram for \"Fuzzers\" attack class\n",
    "sns.histplot(dfs[\"Fuzzers\"][dfs[\"Fuzzers\"].Label==1].TCP_WIN_MAX_IN, stat=\"percent\", ax=axs[0])\n",
    "axs[0].set_title(\"dataset 1, attack a\")\n",
    "axs[0].set_xlabel(\"Feature X\")  # Set x-axis label for the first plot\n",
    "\n",
    "# Plot histogram for \"Backdoor\" attack class\n",
    "sns.histplot(dfs[\"Reconnaissance\"][dfs[\"Reconnaissance\"].Label==1].TCP_WIN_MAX_IN, stat=\"percent\", ax=axs[1])\n",
    "axs[1].set_title(\"dataset 2, attack a\")\n",
    "axs[1].set_xlabel(\"Feature X\")  # Set x-axis label for the first plot\n",
    "\n",
    "\n",
    "# Adjust spacing between subplots\n",
    "plt.tight_layout()\n",
    "\n",
    "# Show the plot\n",
    "plt.show()"
   ]
  },
  {
   "cell_type": "code",
   "execution_count": null,
   "id": "fdd35fb0-69be-4276-b059-9bb0ea44c530",
   "metadata": {
    "tags": []
   },
   "outputs": [],
   "source": [
    "\n"
   ]
  },
  {
   "cell_type": "code",
   "execution_count": 46,
   "id": "aeb7dbea-b6cb-4baf-9567-41d423fdf429",
   "metadata": {
    "tags": []
   },
   "outputs": [
    {
     "data": {
      "image/png": "[encoded data removed]",
      "text/plain": [
       "<Figure size 1200x600 with 2 Axes>"
      ]
     },
     "metadata": {},
     "output_type": "display_data"
    }
   ],
   "source": [
    "import seaborn as sns\n",
    "import matplotlib.pyplot as plt\n",
    "# Create subplots with 1 row and 2 columns\n",
    "fig, axs = plt.subplots(1, 2, figsize=(12, 6))\n",
    "\n",
    "# Plot histogram for \"Fuzzers\" attack class\n",
    "sns.histplot(data=dfs[\"Fuzzers\"],x=\"MIN_IP_PKT_LEN\", stat=\"percent\",hue=\"Label\",ax=axs[0])\n",
    "axs[0].set_title(\"linearily separable feature\")\n",
    "\n",
    "# Plot histogram for \"Backdoor\" attack class\n",
    "sns.histplot(data=dfs[\"Fuzzers\"],x=\"TCP_WIN_MAX_OUT\", stat=\"percent\",hue=\"Label\",ax=axs[1])\n",
    "axs[1].set_title(\"clusterable feature\")\n",
    "\n",
    "# Set common y-axis label\n",
    "# fig.text(0.5, 0.04, \"MIN_TTL\", ha='center')\n",
    "\n",
    "# Adjust spacing between subplots\n",
    "plt.tight_layout()\n",
    "\n",
    "# Show the plot\n",
    "plt.show()"
   ]
  },
  {
   "cell_type": "code",
   "execution_count": null,
   "id": "19edbd95-163c-4c10-8d79-5b4b12f214aa",
   "metadata": {},
   "outputs": [],
   "source": []
  }
 ],
 "metadata": {
  "kernelspec": {
   "display_name": "Python 3 (ipykernel)",
   "language": "python",
   "name": "python3"
  },
  "language_info": {
   "codemirror_mode": {
    "name": "ipython",
    "version": 3
   },
   "file_extension": ".py",
   "mimetype": "text/x-python",
   "name": "python",
   "nbconvert_exporter": "python",
   "pygments_lexer": "ipython3",
   "version": "3.10.11"
  }
 },
 "nbformat": 4,
 "nbformat_minor": 5
}
