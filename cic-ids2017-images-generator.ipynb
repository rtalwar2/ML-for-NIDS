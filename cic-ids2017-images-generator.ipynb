{
 "cells": [
  {
   "cell_type": "markdown",
   "metadata": {
    "execution": {
     "iopub.execute_input": "2022-12-03T15:03:11.034387Z",
     "iopub.status.busy": "2022-12-03T15:03:11.033887Z",
     "iopub.status.idle": "2022-12-03T15:03:11.062283Z",
     "shell.execute_reply": "2022-12-03T15:03:11.06074Z",
     "shell.execute_reply.started": "2022-12-03T15:03:11.034282Z"
    }
   },
   "source": [
    "Using the cleaned version of the CIC-IDS2017 dataset"
   ]
  },
  {
   "cell_type": "code",
   "execution_count": 29,
   "metadata": {},
   "outputs": [
    {
     "name": "stdout",
     "output_type": "stream",
     "text": [
      "Requirement already satisfied: fastai in /opt/conda/lib/python3.10/site-packages (2.7.10)\n",
      "Requirement already satisfied: scipy in /opt/conda/lib/python3.10/site-packages (from fastai) (1.9.3)\n",
      "Requirement already satisfied: spacy<4 in /opt/conda/lib/python3.10/site-packages (from fastai) (3.4.3)\n",
      "Requirement already satisfied: pip in /opt/conda/lib/python3.10/site-packages (from fastai) (22.3)\n",
      "Requirement already satisfied: pandas in /opt/conda/lib/python3.10/site-packages (from fastai) (1.5.1)\n",
      "Requirement already satisfied: pyyaml in /opt/conda/lib/python3.10/site-packages (from fastai) (6.0)\n",
      "Requirement already satisfied: packaging in /opt/conda/lib/python3.10/site-packages (from fastai) (21.3)\n",
      "Requirement already satisfied: torch<1.14,>=1.7 in /opt/conda/lib/python3.10/site-packages (from fastai) (1.13.0)\n",
      "Requirement already satisfied: scikit-learn in /opt/conda/lib/python3.10/site-packages (from fastai) (1.1.3)\n",
      "Requirement already satisfied: fastdownload<2,>=0.0.5 in /opt/conda/lib/python3.10/site-packages (from fastai) (0.0.7)\n",
      "Requirement already satisfied: fastcore<1.6,>=1.4.5 in /opt/conda/lib/python3.10/site-packages (from fastai) (1.5.27)\n",
      "Requirement already satisfied: pillow>6.0.0 in /opt/conda/lib/python3.10/site-packages (from fastai) (9.2.0)\n",
      "Requirement already satisfied: torchvision>=0.8.2 in /opt/conda/lib/python3.10/site-packages (from fastai) (0.14.0)\n",
      "Requirement already satisfied: fastprogress>=0.2.4 in /opt/conda/lib/python3.10/site-packages (from fastai) (1.0.3)\n",
      "Requirement already satisfied: matplotlib in /opt/conda/lib/python3.10/site-packages (from fastai) (3.6.1)\n",
      "Requirement already satisfied: requests in /opt/conda/lib/python3.10/site-packages (from fastai) (2.28.1)\n",
      "Requirement already satisfied: numpy>=1.15.0 in /opt/conda/lib/python3.10/site-packages (from spacy<4->fastai) (1.23.4)\n",
      "Requirement already satisfied: murmurhash<1.1.0,>=0.28.0 in /opt/conda/lib/python3.10/site-packages (from spacy<4->fastai) (1.0.9)\n",
      "Requirement already satisfied: srsly<3.0.0,>=2.4.3 in /opt/conda/lib/python3.10/site-packages (from spacy<4->fastai) (2.4.5)\n",
      "Requirement already satisfied: wasabi<1.1.0,>=0.9.1 in /opt/conda/lib/python3.10/site-packages (from spacy<4->fastai) (0.10.1)\n",
      "Requirement already satisfied: spacy-loggers<2.0.0,>=1.0.0 in /opt/conda/lib/python3.10/site-packages (from spacy<4->fastai) (1.0.3)\n",
      "Requirement already satisfied: pydantic!=1.8,!=1.8.1,<1.11.0,>=1.7.4 in /opt/conda/lib/python3.10/site-packages (from spacy<4->fastai) (1.10.2)\n",
      "Requirement already satisfied: thinc<8.2.0,>=8.1.0 in /opt/conda/lib/python3.10/site-packages (from spacy<4->fastai) (8.1.5)\n",
      "Requirement already satisfied: catalogue<2.1.0,>=2.0.6 in /opt/conda/lib/python3.10/site-packages (from spacy<4->fastai) (2.0.8)\n",
      "Requirement already satisfied: tqdm<5.0.0,>=4.38.0 in /opt/conda/lib/python3.10/site-packages (from spacy<4->fastai) (4.64.1)\n",
      "Requirement already satisfied: preshed<3.1.0,>=3.0.2 in /opt/conda/lib/python3.10/site-packages (from spacy<4->fastai) (3.0.8)\n",
      "Requirement already satisfied: jinja2 in /opt/conda/lib/python3.10/site-packages (from spacy<4->fastai) (3.1.2)\n",
      "Requirement already satisfied: langcodes<4.0.0,>=3.2.0 in /opt/conda/lib/python3.10/site-packages (from spacy<4->fastai) (3.3.0)\n",
      "Requirement already satisfied: typer<0.8.0,>=0.3.0 in /opt/conda/lib/python3.10/site-packages (from spacy<4->fastai) (0.7.0)\n",
      "Requirement already satisfied: spacy-legacy<3.1.0,>=3.0.10 in /opt/conda/lib/python3.10/site-packages (from spacy<4->fastai) (3.0.10)\n",
      "Requirement already satisfied: pathy>=0.3.5 in /opt/conda/lib/python3.10/site-packages (from spacy<4->fastai) (0.10.0)\n",
      "Requirement already satisfied: cymem<2.1.0,>=2.0.2 in /opt/conda/lib/python3.10/site-packages (from spacy<4->fastai) (2.0.7)\n",
      "Requirement already satisfied: setuptools in /opt/conda/lib/python3.10/site-packages (from spacy<4->fastai) (65.5.0)\n",
      "Requirement already satisfied: pyparsing!=3.0.5,>=2.0.2 in /opt/conda/lib/python3.10/site-packages (from packaging->fastai) (3.0.9)\n",
      "Requirement already satisfied: idna<4,>=2.5 in /opt/conda/lib/python3.10/site-packages (from requests->fastai) (3.4)\n",
      "Requirement already satisfied: charset-normalizer<3,>=2 in /opt/conda/lib/python3.10/site-packages (from requests->fastai) (2.1.1)\n",
      "Requirement already satisfied: certifi>=2017.4.17 in /opt/conda/lib/python3.10/site-packages (from requests->fastai) (2022.9.24)\n",
      "Requirement already satisfied: urllib3<1.27,>=1.21.1 in /opt/conda/lib/python3.10/site-packages (from requests->fastai) (1.26.11)\n",
      "Requirement already satisfied: nvidia-cublas-cu11==11.10.3.66 in /opt/conda/lib/python3.10/site-packages (from torch<1.14,>=1.7->fastai) (11.10.3.66)\n",
      "Requirement already satisfied: nvidia-cuda-nvrtc-cu11==11.7.99 in /opt/conda/lib/python3.10/site-packages (from torch<1.14,>=1.7->fastai) (11.7.99)\n",
      "Requirement already satisfied: nvidia-cuda-runtime-cu11==11.7.99 in /opt/conda/lib/python3.10/site-packages (from torch<1.14,>=1.7->fastai) (11.7.99)\n",
      "Requirement already satisfied: typing-extensions in /opt/conda/lib/python3.10/site-packages (from torch<1.14,>=1.7->fastai) (4.4.0)\n",
      "Requirement already satisfied: nvidia-cudnn-cu11==8.5.0.96 in /opt/conda/lib/python3.10/site-packages (from torch<1.14,>=1.7->fastai) (8.5.0.96)\n",
      "Requirement already satisfied: wheel in /opt/conda/lib/python3.10/site-packages (from nvidia-cublas-cu11==11.10.3.66->torch<1.14,>=1.7->fastai) (0.37.1)\n",
      "Requirement already satisfied: python-dateutil>=2.7 in /opt/conda/lib/python3.10/site-packages (from matplotlib->fastai) (2.8.2)\n",
      "Requirement already satisfied: cycler>=0.10 in /opt/conda/lib/python3.10/site-packages (from matplotlib->fastai) (0.11.0)\n",
      "Requirement already satisfied: contourpy>=1.0.1 in /opt/conda/lib/python3.10/site-packages (from matplotlib->fastai) (1.0.5)\n",
      "Requirement already satisfied: fonttools>=4.22.0 in /opt/conda/lib/python3.10/site-packages (from matplotlib->fastai) (4.38.0)\n",
      "Requirement already satisfied: kiwisolver>=1.0.1 in /opt/conda/lib/python3.10/site-packages (from matplotlib->fastai) (1.4.4)\n",
      "Requirement already satisfied: pytz>=2020.1 in /opt/conda/lib/python3.10/site-packages (from pandas->fastai) (2022.5)\n",
      "Requirement already satisfied: threadpoolctl>=2.0.0 in /opt/conda/lib/python3.10/site-packages (from scikit-learn->fastai) (3.1.0)\n",
      "Requirement already satisfied: joblib>=1.0.0 in /opt/conda/lib/python3.10/site-packages (from scikit-learn->fastai) (1.2.0)\n",
      "Requirement already satisfied: smart-open<6.0.0,>=5.2.1 in /opt/conda/lib/python3.10/site-packages (from pathy>=0.3.5->spacy<4->fastai) (5.2.1)\n",
      "Requirement already satisfied: six>=1.5 in /opt/conda/lib/python3.10/site-packages (from python-dateutil>=2.7->matplotlib->fastai) (1.16.0)\n",
      "Requirement already satisfied: blis<0.8.0,>=0.7.8 in /opt/conda/lib/python3.10/site-packages (from thinc<8.2.0,>=8.1.0->spacy<4->fastai) (0.7.9)\n",
      "Requirement already satisfied: confection<1.0.0,>=0.0.1 in /opt/conda/lib/python3.10/site-packages (from thinc<8.2.0,>=8.1.0->spacy<4->fastai) (0.0.3)\n",
      "Requirement already satisfied: click<9.0.0,>=7.1.1 in /opt/conda/lib/python3.10/site-packages (from typer<0.8.0,>=0.3.0->spacy<4->fastai) (8.1.3)\n",
      "Requirement already satisfied: MarkupSafe>=2.0 in /opt/conda/lib/python3.10/site-packages (from jinja2->spacy<4->fastai) (2.1.1)\n",
      "Requirement already satisfied: pyarrow in /opt/conda/lib/python3.10/site-packages (10.0.1)\n",
      "Requirement already satisfied: numpy>=1.16.6 in /opt/conda/lib/python3.10/site-packages (from pyarrow) (1.23.4)\n"
     ]
    }
   ],
   "source": [
    "!pip install fastai\n",
    "!pip install pyarrow"
   ]
  },
  {
   "cell_type": "code",
   "execution_count": 30,
   "metadata": {
    "_cell_guid": "b1076dfc-b9ad-4769-8c92-a6c4dae69d19",
    "_uuid": "8f2839f25d086af736a60e9eeb907d3b93b6e0e5",
    "tags": []
   },
   "outputs": [
    {
     "name": "stdout",
     "output_type": "stream",
     "text": [
      "/project_ghent/datasets/clean-ids-collection/cic-ids2017/clean/cicids2017.parquet\n",
      "/project_ghent/datasets/clean-ids-collection/cic-ids2017/clean/Infiltration-Thursday-WorkingHours-Afternoon.pcap_ISCX.parquet\n",
      "/project_ghent/datasets/clean-ids-collection/cic-ids2017/clean/DDoS-Friday-WorkingHours-Afternoon.pcap_ISCX.parquet\n",
      "/project_ghent/datasets/clean-ids-collection/cic-ids2017/clean/WebAttacks-Thursday-WorkingHours-Morning.pcap_ISCX.parquet\n",
      "/project_ghent/datasets/clean-ids-collection/cic-ids2017/clean/Benign-Monday-WorkingHours.pcap_ISCX.parquet\n",
      "/project_ghent/datasets/clean-ids-collection/cic-ids2017/clean/Portscan-Friday-WorkingHours-Afternoon.pcap_ISCX.parquet\n",
      "/project_ghent/datasets/clean-ids-collection/cic-ids2017/clean/Botnet-Friday-WorkingHours-Morning.pcap_ISCX.parquet\n",
      "/project_ghent/datasets/clean-ids-collection/cic-ids2017/clean/Bruteforce-Tuesday-WorkingHours.pcap_ISCX.parquet\n",
      "/project_ghent/datasets/clean-ids-collection/cic-ids2017/clean/DoS-Wednesday-WorkingHours.pcap_ISCX.parquet\n"
     ]
    }
   ],
   "source": [
    "# This Python 3 environment comes with many helpful analytics libraries installed\n",
    "# It is defined by the kaggle/python Docker image: https://github.com/kaggle/docker-python\n",
    "# For example, here's several helpful packages to load\n",
    "\n",
    "import numpy as np # linear algebra\n",
    "import pandas as pd # data processing, CSV file I/O (e.g. pd.read_csv)\n",
    "\n",
    "# Input data files are available in the read-only \"../input/\" directory\n",
    "# For example, running this (by clicking run or pressing Shift+Enter) will list all files under the input directory\n",
    "\n",
    "import os\n",
    "dfps = []\n",
    "for dirname, _, filenames in os.walk('/project_ghent/datasets/clean-ids-collection/cic-ids2017/clean'):\n",
    "# for dirname, _, filenames in os.walk('/project_ghent/datasets/clean-ids-collection/cse-cic-ids2018/clean'):\n",
    "    for filename in filenames:\n",
    "        if filename.endswith('.parquet'):\n",
    "            dfp = os.path.join(dirname, filename)\n",
    "            dfps.append(dfp)\n",
    "            print(dfp)\n",
    "\n",
    "# You can write up to 20GB to the current directory (/kaggle/working/) that gets preserved as output when you create a version using \"Save & Run All\" \n",
    "# You can also write temporary files to /kaggle/temp/, but they won't be saved outside of the current session"
   ]
  },
  {
   "cell_type": "markdown",
   "metadata": {},
   "source": [
    "Importing the necesary libraries"
   ]
  },
  {
   "cell_type": "code",
   "execution_count": 31,
   "metadata": {
    "tags": []
   },
   "outputs": [],
   "source": [
    "from fastai.imports import *\n",
    "from fastai.vision.all import *\n",
    "from sklearn.preprocessing import MinMaxScaler"
   ]
  },
  {
   "cell_type": "markdown",
   "metadata": {},
   "source": [
    "we will throw away Benign monday and work with the benign data in the rest of the dataset"
   ]
  },
  {
   "cell_type": "code",
   "execution_count": 32,
   "metadata": {
    "tags": []
   },
   "outputs": [],
   "source": [
    "dfps = [dfp for dfp in dfps if not 'Benign' in dfp] #remove Benign monday"
   ]
  },
  {
   "cell_type": "code",
   "execution_count": 33,
   "metadata": {
    "tags": []
   },
   "outputs": [],
   "source": [
    "df = pd.concat([pd.read_parquet(dfp) for dfp in dfps], ignore_index=True)"
   ]
  },
  {
   "cell_type": "code",
   "execution_count": 34,
   "metadata": {
    "tags": []
   },
   "outputs": [
    {
     "data": {
      "text/html": [
       "<div>\n",
       "<style scoped>\n",
       "    .dataframe tbody tr th:only-of-type {\n",
       "        vertical-align: middle;\n",
       "    }\n",
       "\n",
       "    .dataframe tbody tr th {\n",
       "        vertical-align: top;\n",
       "    }\n",
       "\n",
       "    .dataframe thead th {\n",
       "        text-align: right;\n",
       "    }\n",
       "</style>\n",
       "<table border=\"1\" class=\"dataframe\">\n",
       "  <thead>\n",
       "    <tr style=\"text-align: right;\">\n",
       "      <th></th>\n",
       "      <th>Flow Duration</th>\n",
       "      <th>Total Fwd Packets</th>\n",
       "      <th>Total Backward Packets</th>\n",
       "      <th>Fwd Packets Length Total</th>\n",
       "      <th>Bwd Packets Length Total</th>\n",
       "      <th>Fwd Packet Length Max</th>\n",
       "      <th>Fwd Packet Length Min</th>\n",
       "      <th>Fwd Packet Length Mean</th>\n",
       "      <th>Fwd Packet Length Std</th>\n",
       "      <th>Bwd Packet Length Max</th>\n",
       "      <th>...</th>\n",
       "      <th>Fwd Seg Size Min</th>\n",
       "      <th>Active Mean</th>\n",
       "      <th>Active Std</th>\n",
       "      <th>Active Max</th>\n",
       "      <th>Active Min</th>\n",
       "      <th>Idle Mean</th>\n",
       "      <th>Idle Std</th>\n",
       "      <th>Idle Max</th>\n",
       "      <th>Idle Min</th>\n",
       "      <th>Label</th>\n",
       "    </tr>\n",
       "  </thead>\n",
       "  <tbody>\n",
       "    <tr>\n",
       "      <th>0</th>\n",
       "      <td>4</td>\n",
       "      <td>2</td>\n",
       "      <td>0</td>\n",
       "      <td>12</td>\n",
       "      <td>0</td>\n",
       "      <td>6</td>\n",
       "      <td>6</td>\n",
       "      <td>6.0</td>\n",
       "      <td>0.0</td>\n",
       "      <td>0</td>\n",
       "      <td>...</td>\n",
       "      <td>20</td>\n",
       "      <td>0.0</td>\n",
       "      <td>0.0</td>\n",
       "      <td>0</td>\n",
       "      <td>0</td>\n",
       "      <td>0.0</td>\n",
       "      <td>0.0</td>\n",
       "      <td>0</td>\n",
       "      <td>0</td>\n",
       "      <td>Benign</td>\n",
       "    </tr>\n",
       "    <tr>\n",
       "      <th>1</th>\n",
       "      <td>1</td>\n",
       "      <td>2</td>\n",
       "      <td>0</td>\n",
       "      <td>12</td>\n",
       "      <td>0</td>\n",
       "      <td>6</td>\n",
       "      <td>6</td>\n",
       "      <td>6.0</td>\n",
       "      <td>0.0</td>\n",
       "      <td>0</td>\n",
       "      <td>...</td>\n",
       "      <td>20</td>\n",
       "      <td>0.0</td>\n",
       "      <td>0.0</td>\n",
       "      <td>0</td>\n",
       "      <td>0</td>\n",
       "      <td>0.0</td>\n",
       "      <td>0.0</td>\n",
       "      <td>0</td>\n",
       "      <td>0</td>\n",
       "      <td>Benign</td>\n",
       "    </tr>\n",
       "  </tbody>\n",
       "</table>\n",
       "<p>2 rows × 67 columns</p>\n",
       "</div>"
      ],
      "text/plain": [
       "   Flow Duration  Total Fwd Packets  Total Backward Packets  \\\n",
       "0              4                  2                       0   \n",
       "1              1                  2                       0   \n",
       "\n",
       "   Fwd Packets Length Total  Bwd Packets Length Total  Fwd Packet Length Max  \\\n",
       "0                        12                         0                      6   \n",
       "1                        12                         0                      6   \n",
       "\n",
       "   Fwd Packet Length Min  Fwd Packet Length Mean  Fwd Packet Length Std  \\\n",
       "0                      6                     6.0                    0.0   \n",
       "1                      6                     6.0                    0.0   \n",
       "\n",
       "   Bwd Packet Length Max  ...  Fwd Seg Size Min  Active Mean  Active Std  \\\n",
       "0                      0  ...                20          0.0         0.0   \n",
       "1                      0  ...                20          0.0         0.0   \n",
       "\n",
       "   Active Max  Active Min  Idle Mean  Idle Std  Idle Max  Idle Min   Label  \n",
       "0           0           0        0.0       0.0         0         0  Benign  \n",
       "1           0           0        0.0       0.0         0         0  Benign  \n",
       "\n",
       "[2 rows x 67 columns]"
      ]
     },
     "execution_count": 34,
     "metadata": {},
     "output_type": "execute_result"
    }
   ],
   "source": [
    "df.head(2)"
   ]
  },
  {
   "cell_type": "markdown",
   "metadata": {
    "execution": {
     "iopub.execute_input": "2022-12-03T15:17:11.021854Z",
     "iopub.status.busy": "2022-12-03T15:17:11.021457Z",
     "iopub.status.idle": "2022-12-03T15:17:11.028487Z",
     "shell.execute_reply": "2022-12-03T15:17:11.026988Z",
     "shell.execute_reply.started": "2022-12-03T15:17:11.021824Z"
    }
   },
   "source": [
    "make label binary"
   ]
  },
  {
   "cell_type": "code",
   "execution_count": 35,
   "metadata": {
    "tags": []
   },
   "outputs": [
    {
     "name": "stdout",
     "output_type": "stream",
     "text": [
      "0    3381067\n",
      "1     672766\n",
      "Name: Label, dtype: int64\n"
     ]
    }
   ],
   "source": [
    "df.loc[df['Label'] != 'Benign', 'Label'] = 1\n",
    "df.loc[df['Label'] == 'Benign', 'Label'] = 0\n",
    "print(df['Label'].value_counts())\n",
    "df['Label'] = df['Label'].astype(dtype=np.int32)"
   ]
  },
  {
   "cell_type": "markdown",
   "metadata": {},
   "source": [
    "splitting data helper function"
   ]
  },
  {
   "cell_type": "code",
   "execution_count": 36,
   "metadata": {
    "tags": []
   },
   "outputs": [],
   "source": [
    "def xs_y(df_, targ): \n",
    "    if not isinstance(targ, list):\n",
    "        xs = df_[df_.columns.difference([targ])].copy() #splot target from data\n",
    "    else:\n",
    "        xs = df_[df_.columns.difference(targ)].copy()\n",
    "    y = df_[targ].copy()\n",
    "    return xs, y"
   ]
  },
  {
   "cell_type": "code",
   "execution_count": 37,
   "metadata": {
    "tags": []
   },
   "outputs": [
    {
     "data": {
      "text/plain": [
       "((810767, 67), (3243066, 67))"
      ]
     },
     "execution_count": 37,
     "metadata": {},
     "output_type": "execute_result"
    }
   ],
   "source": [
    "training_set = df.sample(frac=0.2, replace=False, random_state=42)\n",
    "testing_set = df.drop(index=training_set.index)\n",
    "training_set.shape, testing_set.shape"
   ]
  },
  {
   "cell_type": "code",
   "execution_count": 38,
   "metadata": {},
   "outputs": [
    {
     "data": {
      "text/plain": [
       "((5000, 67), (5000, 67))"
      ]
     },
     "execution_count": 38,
     "metadata": {},
     "output_type": "execute_result"
    }
   ],
   "source": [
    "training_set=training_set.sample(n=5000)\n",
    "testing_set=testing_set.sample(n=5000)\n",
    "training_set.shape, testing_set.shape"
   ]
  },
  {
   "cell_type": "code",
   "execution_count": 39,
   "metadata": {
    "tags": []
   },
   "outputs": [],
   "source": [
    "X_train, y_train = xs_y(training_set, targ=\"Label\")\n",
    "X_test, y_test = xs_y(testing_set, targ=\"Label\")"
   ]
  },
  {
   "cell_type": "markdown",
   "metadata": {},
   "source": [
    "I'll try to represent each flow with an image, for this to succeed I need to scale every feture to a range between 0 en 255"
   ]
  },
  {
   "cell_type": "code",
   "execution_count": 40,
   "metadata": {
    "tags": []
   },
   "outputs": [],
   "source": [
    "#example for 1 flow\n",
    "df_norm=X_train.copy()"
   ]
  },
  {
   "cell_type": "code",
   "execution_count": 41,
   "metadata": {
    "tags": []
   },
   "outputs": [
    {
     "data": {
      "text/plain": [
       "Index(['ACK Flag Count', 'Active Max', 'Active Mean', 'Active Min',\n",
       "       'Active Std', 'Avg Bwd Segment Size', 'Avg Fwd Segment Size',\n",
       "       'Avg Packet Size', 'Bwd Header Length', 'Bwd IAT Max', 'Bwd IAT Mean',\n",
       "       'Bwd IAT Min', 'Bwd IAT Std', 'Bwd IAT Total', 'Bwd Packet Length Max',\n",
       "       'Bwd Packet Length Mean', 'Bwd Packet Length Min',\n",
       "       'Bwd Packet Length Std', 'Bwd Packets Length Total', 'Bwd Packets/s',\n",
       "       'Down/Up Ratio', 'ECE Flag Count', 'FIN Flag Count', 'Flow Bytes/s',\n",
       "       'Flow Duration', 'Flow IAT Max', 'Flow IAT Mean', 'Flow IAT Min',\n",
       "       'Flow IAT Std', 'Flow Packets/s', 'Fwd Act Data Packets',\n",
       "       'Fwd Header Length', 'Fwd IAT Max', 'Fwd IAT Mean', 'Fwd IAT Min',\n",
       "       'Fwd IAT Std', 'Fwd IAT Total', 'Fwd PSH Flags',\n",
       "       'Fwd Packet Length Max', 'Fwd Packet Length Mean',\n",
       "       'Fwd Packet Length Min', 'Fwd Packet Length Std',\n",
       "       'Fwd Packets Length Total', 'Fwd Packets/s', 'Fwd Seg Size Min',\n",
       "       'Idle Max', 'Idle Mean', 'Idle Min', 'Idle Std', 'Init Bwd Win Bytes',\n",
       "       'Init Fwd Win Bytes', 'PSH Flag Count', 'Packet Length Max',\n",
       "       'Packet Length Mean', 'Packet Length Min', 'Packet Length Std',\n",
       "       'Packet Length Variance', 'RST Flag Count', 'SYN Flag Count',\n",
       "       'Subflow Bwd Bytes', 'Subflow Bwd Packets', 'Subflow Fwd Bytes',\n",
       "       'Subflow Fwd Packets', 'Total Backward Packets', 'Total Fwd Packets',\n",
       "       'URG Flag Count'],\n",
       "      dtype='object')"
      ]
     },
     "execution_count": 41,
     "metadata": {},
     "output_type": "execute_result"
    }
   ],
   "source": [
    "df_norm.columns"
   ]
  },
  {
   "cell_type": "markdown",
   "metadata": {},
   "source": [
    "apply min max normalisation"
   ]
  },
  {
   "cell_type": "code",
   "execution_count": 42,
   "metadata": {
    "tags": []
   },
   "outputs": [],
   "source": [
    "scaler=MinMaxScaler((0,255))\n",
    "scaled_features=scaler.fit_transform(df_norm)"
   ]
  },
  {
   "cell_type": "code",
   "execution_count": 43,
   "metadata": {
    "tags": []
   },
   "outputs": [],
   "source": [
    "df=pd.DataFrame(scaled_features,columns=df_norm.columns)"
   ]
  },
  {
   "cell_type": "code",
   "execution_count": 44,
   "metadata": {
    "tags": []
   },
   "outputs": [
    {
     "data": {
      "text/html": [
       "<div>\n",
       "<style scoped>\n",
       "    .dataframe tbody tr th:only-of-type {\n",
       "        vertical-align: middle;\n",
       "    }\n",
       "\n",
       "    .dataframe tbody tr th {\n",
       "        vertical-align: top;\n",
       "    }\n",
       "\n",
       "    .dataframe thead th {\n",
       "        text-align: right;\n",
       "    }\n",
       "</style>\n",
       "<table border=\"1\" class=\"dataframe\">\n",
       "  <thead>\n",
       "    <tr style=\"text-align: right;\">\n",
       "      <th></th>\n",
       "      <th>ACK Flag Count</th>\n",
       "      <th>Active Max</th>\n",
       "      <th>Active Mean</th>\n",
       "      <th>Active Min</th>\n",
       "      <th>Active Std</th>\n",
       "      <th>Avg Bwd Segment Size</th>\n",
       "      <th>Avg Fwd Segment Size</th>\n",
       "      <th>Avg Packet Size</th>\n",
       "      <th>Bwd Header Length</th>\n",
       "      <th>Bwd IAT Max</th>\n",
       "      <th>...</th>\n",
       "      <th>Packet Length Variance</th>\n",
       "      <th>RST Flag Count</th>\n",
       "      <th>SYN Flag Count</th>\n",
       "      <th>Subflow Bwd Bytes</th>\n",
       "      <th>Subflow Bwd Packets</th>\n",
       "      <th>Subflow Fwd Bytes</th>\n",
       "      <th>Subflow Fwd Packets</th>\n",
       "      <th>Total Backward Packets</th>\n",
       "      <th>Total Fwd Packets</th>\n",
       "      <th>URG Flag Count</th>\n",
       "    </tr>\n",
       "  </thead>\n",
       "  <tbody>\n",
       "    <tr>\n",
       "      <th>0</th>\n",
       "      <td>0.0</td>\n",
       "      <td>0.000000</td>\n",
       "      <td>0.000000</td>\n",
       "      <td>0.000000</td>\n",
       "      <td>0.000000</td>\n",
       "      <td>32.575640</td>\n",
       "      <td>10.831090</td>\n",
       "      <td>29.044693</td>\n",
       "      <td>1.656822</td>\n",
       "      <td>0.114608</td>\n",
       "      <td>...</td>\n",
       "      <td>2.696270</td>\n",
       "      <td>0.0</td>\n",
       "      <td>0.0</td>\n",
       "      <td>0.310142</td>\n",
       "      <td>1.004431</td>\n",
       "      <td>1.588823</td>\n",
       "      <td>2.409449</td>\n",
       "      <td>1.004431</td>\n",
       "      <td>2.409449</td>\n",
       "      <td>0.0</td>\n",
       "    </tr>\n",
       "    <tr>\n",
       "      <th>1</th>\n",
       "      <td>0.0</td>\n",
       "      <td>0.000000</td>\n",
       "      <td>0.000000</td>\n",
       "      <td>0.000000</td>\n",
       "      <td>0.000000</td>\n",
       "      <td>10.221102</td>\n",
       "      <td>4.126850</td>\n",
       "      <td>9.816405</td>\n",
       "      <td>0.401654</td>\n",
       "      <td>0.000008</td>\n",
       "      <td>...</td>\n",
       "      <td>0.040378</td>\n",
       "      <td>0.0</td>\n",
       "      <td>0.0</td>\n",
       "      <td>0.024328</td>\n",
       "      <td>0.251108</td>\n",
       "      <td>0.186268</td>\n",
       "      <td>0.602362</td>\n",
       "      <td>0.251108</td>\n",
       "      <td>0.602362</td>\n",
       "      <td>0.0</td>\n",
       "    </tr>\n",
       "    <tr>\n",
       "      <th>2</th>\n",
       "      <td>255.0</td>\n",
       "      <td>18.679410</td>\n",
       "      <td>3.437600</td>\n",
       "      <td>0.189053</td>\n",
       "      <td>62.622923</td>\n",
       "      <td>44.173559</td>\n",
       "      <td>51.133155</td>\n",
       "      <td>67.799876</td>\n",
       "      <td>16.392499</td>\n",
       "      <td>21.405773</td>\n",
       "      <td>...</td>\n",
       "      <td>1.526418</td>\n",
       "      <td>0.0</td>\n",
       "      <td>255.0</td>\n",
       "      <td>6.518719</td>\n",
       "      <td>15.568685</td>\n",
       "      <td>71.545821</td>\n",
       "      <td>24.696850</td>\n",
       "      <td>15.568685</td>\n",
       "      <td>24.696850</td>\n",
       "      <td>0.0</td>\n",
       "    </tr>\n",
       "    <tr>\n",
       "      <th>3</th>\n",
       "      <td>0.0</td>\n",
       "      <td>0.438855</td>\n",
       "      <td>0.165556</td>\n",
       "      <td>0.138019</td>\n",
       "      <td>0.925913</td>\n",
       "      <td>53.157971</td>\n",
       "      <td>1.792232</td>\n",
       "      <td>45.775732</td>\n",
       "      <td>4.870053</td>\n",
       "      <td>21.394336</td>\n",
       "      <td>...</td>\n",
       "      <td>8.511407</td>\n",
       "      <td>0.0</td>\n",
       "      <td>0.0</td>\n",
       "      <td>1.518301</td>\n",
       "      <td>3.013294</td>\n",
       "      <td>0.505585</td>\n",
       "      <td>4.818898</td>\n",
       "      <td>3.013294</td>\n",
       "      <td>4.818898</td>\n",
       "      <td>0.0</td>\n",
       "    </tr>\n",
       "    <tr>\n",
       "      <th>4</th>\n",
       "      <td>0.0</td>\n",
       "      <td>0.000000</td>\n",
       "      <td>0.000000</td>\n",
       "      <td>0.000000</td>\n",
       "      <td>0.000000</td>\n",
       "      <td>7.451513</td>\n",
       "      <td>5.109433</td>\n",
       "      <td>12.289385</td>\n",
       "      <td>0.125517</td>\n",
       "      <td>0.000000</td>\n",
       "      <td>...</td>\n",
       "      <td>0.016473</td>\n",
       "      <td>0.0</td>\n",
       "      <td>0.0</td>\n",
       "      <td>0.008868</td>\n",
       "      <td>0.125554</td>\n",
       "      <td>0.057654</td>\n",
       "      <td>0.000000</td>\n",
       "      <td>0.125554</td>\n",
       "      <td>0.000000</td>\n",
       "      <td>0.0</td>\n",
       "    </tr>\n",
       "    <tr>\n",
       "      <th>...</th>\n",
       "      <td>...</td>\n",
       "      <td>...</td>\n",
       "      <td>...</td>\n",
       "      <td>...</td>\n",
       "      <td>...</td>\n",
       "      <td>...</td>\n",
       "      <td>...</td>\n",
       "      <td>...</td>\n",
       "      <td>...</td>\n",
       "      <td>...</td>\n",
       "      <td>...</td>\n",
       "      <td>...</td>\n",
       "      <td>...</td>\n",
       "      <td>...</td>\n",
       "      <td>...</td>\n",
       "      <td>...</td>\n",
       "      <td>...</td>\n",
       "      <td>...</td>\n",
       "      <td>...</td>\n",
       "      <td>...</td>\n",
       "      <td>...</td>\n",
       "    </tr>\n",
       "    <tr>\n",
       "      <th>4995</th>\n",
       "      <td>255.0</td>\n",
       "      <td>0.000000</td>\n",
       "      <td>0.000000</td>\n",
       "      <td>0.000000</td>\n",
       "      <td>0.000000</td>\n",
       "      <td>0.000000</td>\n",
       "      <td>0.000000</td>\n",
       "      <td>0.000000</td>\n",
       "      <td>0.200827</td>\n",
       "      <td>0.000000</td>\n",
       "      <td>...</td>\n",
       "      <td>0.000000</td>\n",
       "      <td>0.0</td>\n",
       "      <td>0.0</td>\n",
       "      <td>0.000000</td>\n",
       "      <td>0.125554</td>\n",
       "      <td>0.000000</td>\n",
       "      <td>0.000000</td>\n",
       "      <td>0.125554</td>\n",
       "      <td>0.000000</td>\n",
       "      <td>0.0</td>\n",
       "    </tr>\n",
       "    <tr>\n",
       "      <th>4996</th>\n",
       "      <td>255.0</td>\n",
       "      <td>0.003750</td>\n",
       "      <td>0.003750</td>\n",
       "      <td>0.003750</td>\n",
       "      <td>0.000000</td>\n",
       "      <td>127.434057</td>\n",
       "      <td>4.409342</td>\n",
       "      <td>96.713165</td>\n",
       "      <td>1.255168</td>\n",
       "      <td>0.297723</td>\n",
       "      <td>...</td>\n",
       "      <td>34.904702</td>\n",
       "      <td>0.0</td>\n",
       "      <td>0.0</td>\n",
       "      <td>0.909945</td>\n",
       "      <td>0.753323</td>\n",
       "      <td>0.398037</td>\n",
       "      <td>1.405512</td>\n",
       "      <td>0.753323</td>\n",
       "      <td>1.405512</td>\n",
       "      <td>0.0</td>\n",
       "    </tr>\n",
       "    <tr>\n",
       "      <th>4997</th>\n",
       "      <td>255.0</td>\n",
       "      <td>0.000000</td>\n",
       "      <td>0.000000</td>\n",
       "      <td>0.000000</td>\n",
       "      <td>0.000000</td>\n",
       "      <td>0.000000</td>\n",
       "      <td>0.000000</td>\n",
       "      <td>0.000000</td>\n",
       "      <td>0.200827</td>\n",
       "      <td>0.000000</td>\n",
       "      <td>...</td>\n",
       "      <td>0.000000</td>\n",
       "      <td>0.0</td>\n",
       "      <td>0.0</td>\n",
       "      <td>0.000000</td>\n",
       "      <td>0.125554</td>\n",
       "      <td>0.000000</td>\n",
       "      <td>0.000000</td>\n",
       "      <td>0.125554</td>\n",
       "      <td>0.000000</td>\n",
       "      <td>255.0</td>\n",
       "    </tr>\n",
       "    <tr>\n",
       "      <th>4998</th>\n",
       "      <td>255.0</td>\n",
       "      <td>0.000000</td>\n",
       "      <td>0.000000</td>\n",
       "      <td>0.000000</td>\n",
       "      <td>0.000000</td>\n",
       "      <td>0.395656</td>\n",
       "      <td>195.174918</td>\n",
       "      <td>223.021181</td>\n",
       "      <td>0.125517</td>\n",
       "      <td>0.000000</td>\n",
       "      <td>...</td>\n",
       "      <td>12.644505</td>\n",
       "      <td>0.0</td>\n",
       "      <td>0.0</td>\n",
       "      <td>0.000471</td>\n",
       "      <td>0.125554</td>\n",
       "      <td>63.867804</td>\n",
       "      <td>5.622047</td>\n",
       "      <td>0.125554</td>\n",
       "      <td>5.622047</td>\n",
       "      <td>0.0</td>\n",
       "    </tr>\n",
       "    <tr>\n",
       "      <th>4999</th>\n",
       "      <td>255.0</td>\n",
       "      <td>0.002651</td>\n",
       "      <td>0.002651</td>\n",
       "      <td>0.002651</td>\n",
       "      <td>0.000000</td>\n",
       "      <td>0.000000</td>\n",
       "      <td>0.589550</td>\n",
       "      <td>0.849497</td>\n",
       "      <td>0.000000</td>\n",
       "      <td>0.000000</td>\n",
       "      <td>...</td>\n",
       "      <td>0.000000</td>\n",
       "      <td>0.0</td>\n",
       "      <td>0.0</td>\n",
       "      <td>0.000000</td>\n",
       "      <td>0.000000</td>\n",
       "      <td>0.026610</td>\n",
       "      <td>0.602362</td>\n",
       "      <td>0.000000</td>\n",
       "      <td>0.602362</td>\n",
       "      <td>0.0</td>\n",
       "    </tr>\n",
       "  </tbody>\n",
       "</table>\n",
       "<p>5000 rows × 66 columns</p>\n",
       "</div>"
      ],
      "text/plain": [
       "      ACK Flag Count  Active Max  Active Mean  Active Min  Active Std  \\\n",
       "0                0.0    0.000000     0.000000    0.000000    0.000000   \n",
       "1                0.0    0.000000     0.000000    0.000000    0.000000   \n",
       "2              255.0   18.679410     3.437600    0.189053   62.622923   \n",
       "3                0.0    0.438855     0.165556    0.138019    0.925913   \n",
       "4                0.0    0.000000     0.000000    0.000000    0.000000   \n",
       "...              ...         ...          ...         ...         ...   \n",
       "4995           255.0    0.000000     0.000000    0.000000    0.000000   \n",
       "4996           255.0    0.003750     0.003750    0.003750    0.000000   \n",
       "4997           255.0    0.000000     0.000000    0.000000    0.000000   \n",
       "4998           255.0    0.000000     0.000000    0.000000    0.000000   \n",
       "4999           255.0    0.002651     0.002651    0.002651    0.000000   \n",
       "\n",
       "      Avg Bwd Segment Size  Avg Fwd Segment Size  Avg Packet Size  \\\n",
       "0                32.575640             10.831090        29.044693   \n",
       "1                10.221102              4.126850         9.816405   \n",
       "2                44.173559             51.133155        67.799876   \n",
       "3                53.157971              1.792232        45.775732   \n",
       "4                 7.451513              5.109433        12.289385   \n",
       "...                    ...                   ...              ...   \n",
       "4995              0.000000              0.000000         0.000000   \n",
       "4996            127.434057              4.409342        96.713165   \n",
       "4997              0.000000              0.000000         0.000000   \n",
       "4998              0.395656            195.174918       223.021181   \n",
       "4999              0.000000              0.589550         0.849497   \n",
       "\n",
       "      Bwd Header Length  Bwd IAT Max  ...  Packet Length Variance  \\\n",
       "0              1.656822     0.114608  ...                2.696270   \n",
       "1              0.401654     0.000008  ...                0.040378   \n",
       "2             16.392499    21.405773  ...                1.526418   \n",
       "3              4.870053    21.394336  ...                8.511407   \n",
       "4              0.125517     0.000000  ...                0.016473   \n",
       "...                 ...          ...  ...                     ...   \n",
       "4995           0.200827     0.000000  ...                0.000000   \n",
       "4996           1.255168     0.297723  ...               34.904702   \n",
       "4997           0.200827     0.000000  ...                0.000000   \n",
       "4998           0.125517     0.000000  ...               12.644505   \n",
       "4999           0.000000     0.000000  ...                0.000000   \n",
       "\n",
       "      RST Flag Count  SYN Flag Count  Subflow Bwd Bytes  Subflow Bwd Packets  \\\n",
       "0                0.0             0.0           0.310142             1.004431   \n",
       "1                0.0             0.0           0.024328             0.251108   \n",
       "2                0.0           255.0           6.518719            15.568685   \n",
       "3                0.0             0.0           1.518301             3.013294   \n",
       "4                0.0             0.0           0.008868             0.125554   \n",
       "...              ...             ...                ...                  ...   \n",
       "4995             0.0             0.0           0.000000             0.125554   \n",
       "4996             0.0             0.0           0.909945             0.753323   \n",
       "4997             0.0             0.0           0.000000             0.125554   \n",
       "4998             0.0             0.0           0.000471             0.125554   \n",
       "4999             0.0             0.0           0.000000             0.000000   \n",
       "\n",
       "      Subflow Fwd Bytes  Subflow Fwd Packets  Total Backward Packets  \\\n",
       "0              1.588823             2.409449                1.004431   \n",
       "1              0.186268             0.602362                0.251108   \n",
       "2             71.545821            24.696850               15.568685   \n",
       "3              0.505585             4.818898                3.013294   \n",
       "4              0.057654             0.000000                0.125554   \n",
       "...                 ...                  ...                     ...   \n",
       "4995           0.000000             0.000000                0.125554   \n",
       "4996           0.398037             1.405512                0.753323   \n",
       "4997           0.000000             0.000000                0.125554   \n",
       "4998          63.867804             5.622047                0.125554   \n",
       "4999           0.026610             0.602362                0.000000   \n",
       "\n",
       "      Total Fwd Packets  URG Flag Count  \n",
       "0              2.409449             0.0  \n",
       "1              0.602362             0.0  \n",
       "2             24.696850             0.0  \n",
       "3              4.818898             0.0  \n",
       "4              0.000000             0.0  \n",
       "...                 ...             ...  \n",
       "4995           0.000000             0.0  \n",
       "4996           1.405512             0.0  \n",
       "4997           0.000000           255.0  \n",
       "4998           5.622047             0.0  \n",
       "4999           0.602362             0.0  \n",
       "\n",
       "[5000 rows x 66 columns]"
      ]
     },
     "execution_count": 44,
     "metadata": {},
     "output_type": "execute_result"
    }
   ],
   "source": [
    "df"
   ]
  },
  {
   "cell_type": "markdown",
   "metadata": {},
   "source": [
    "our numpy array has 77 elements, we will make a gray scaled picture with dimensions 9x9 and add some black pixels for padding"
   ]
  },
  {
   "cell_type": "markdown",
   "metadata": {},
   "source": [
    "here the process is worked out for a single flow"
   ]
  },
  {
   "cell_type": "code",
   "execution_count": 45,
   "metadata": {
    "tags": []
   },
   "outputs": [
    {
     "data": {
      "text/plain": [
       "(9, 9)"
      ]
     },
     "execution_count": 45,
     "metadata": {},
     "output_type": "execute_result"
    }
   ],
   "source": [
    "np_image=np.concatenate((df.iloc[0],[0]*15)).reshape(9,9)\n",
    "np_image.shape"
   ]
  },
  {
   "cell_type": "code",
   "execution_count": 46,
   "metadata": {
    "tags": []
   },
   "outputs": [
    {
     "data": {
      "image/png": "[encoded data removed]",
      "text/plain": [
       "PILImage mode=L size=9x9"
      ]
     },
     "execution_count": 46,
     "metadata": {},
     "output_type": "execute_result"
    }
   ],
   "source": [
    "im=PILImage.create(np_image.astype(np.uint8))\n",
    "im"
   ]
  },
  {
   "cell_type": "code",
   "execution_count": 47,
   "metadata": {
    "tags": []
   },
   "outputs": [
    {
     "data": {
      "image/png": "[encoded data removed]",
      "text/plain": [
       "<PIL.Image.Image image mode=L size=256x256>"
      ]
     },
     "execution_count": 47,
     "metadata": {},
     "output_type": "execute_result"
    }
   ],
   "source": [
    "im=im.resize((256,256))\n",
    "im"
   ]
  },
  {
   "cell_type": "code",
   "execution_count": 48,
   "metadata": {
    "tags": []
   },
   "outputs": [],
   "source": [
    "# dest.mkdir(exist_ok=True, parents=True)\n",
    "# im.save(dest/\"0.jpg\")"
   ]
  },
  {
   "cell_type": "markdown",
   "metadata": {},
   "source": [
    "we will now do this for each packet flow"
   ]
  },
  {
   "cell_type": "code",
   "execution_count": 49,
   "metadata": {
    "tags": []
   },
   "outputs": [],
   "source": [
    "path = Path('/project_ghent/raman/cic-ids2017/subset-5000/flow_images/train')"
   ]
  },
  {
   "cell_type": "code",
   "execution_count": 50,
   "metadata": {
    "tags": []
   },
   "outputs": [],
   "source": [
    "labels=[\"benign\",\"malign\"]"
   ]
  },
  {
   "cell_type": "code",
   "execution_count": 51,
   "metadata": {
    "tags": []
   },
   "outputs": [],
   "source": [
    "def flow_to_image(i):\n",
    "    np_image=np.concatenate((df.iloc[i],[0]*15)).reshape(9,9)\n",
    "    im=PILImage.create(np_image.astype(np.uint8))\n",
    "#     im=im.resize((256,256))\n",
    "    #save the image in correct folder\n",
    "    dest=(path/labels[y_train.iloc[i]]) #dest will be flow_images/benign or flow_images/malign\n",
    "    dest.mkdir(exist_ok=True, parents=True)\n",
    "    im.save(dest/f\"{i}.jpg\")"
   ]
  },
  {
   "cell_type": "code",
   "execution_count": 52,
   "metadata": {
    "tags": []
   },
   "outputs": [
    {
     "data": {
      "text/html": [
       "\n",
       "<style>\n",
       "    /* Turns off some styling */\n",
       "    progress {\n",
       "        /* gets rid of default border in Firefox and Opera. */\n",
       "        border: none;\n",
       "        /* Needs to be in here for Safari polyfill so background images work as expected. */\n",
       "        background-size: auto;\n",
       "    }\n",
       "    progress:not([value]), progress:not([value])::-webkit-progress-bar {\n",
       "        background: repeating-linear-gradient(45deg, #7e7e7e, #7e7e7e 10px, #5c5c5c 10px, #5c5c5c 20px);\n",
       "    }\n",
       "    .progress-bar-interrupted, .progress-bar-interrupted::-webkit-progress-bar {\n",
       "        background: #F44336;\n",
       "    }\n",
       "</style>\n"
      ],
      "text/plain": [
       "<IPython.core.display.HTML object>"
      ]
     },
     "metadata": {},
     "output_type": "display_data"
    },
    {
     "data": {
      "text/html": [],
      "text/plain": [
       "<IPython.core.display.HTML object>"
      ]
     },
     "metadata": {},
     "output_type": "display_data"
    },
    {
     "data": {
      "text/plain": [
       "(#5000) [None,None,None,None,None,None,None,None,None,None...]"
      ]
     },
     "execution_count": 52,
     "metadata": {},
     "output_type": "execute_result"
    }
   ],
   "source": [
    "parallel(f=flow_to_image, \n",
    "                  items=range(df.shape[0]), n_workers=os.cpu_count(), threadpool=False, progress=True)"
   ]
  },
  {
   "cell_type": "code",
   "execution_count": 53,
   "metadata": {
    "tags": []
   },
   "outputs": [],
   "source": [
    "df_norm=X_test.copy()\n",
    "scaled_features=scaler.fit_transform(df_norm)\n",
    "df=pd.DataFrame(scaled_features,columns=df_norm.columns)"
   ]
  },
  {
   "cell_type": "code",
   "execution_count": 54,
   "metadata": {
    "tags": []
   },
   "outputs": [],
   "source": [
    "path = Path('/project_ghent/raman/cic-ids2017/subset-5000/flow_images/test')"
   ]
  },
  {
   "cell_type": "code",
   "execution_count": 55,
   "metadata": {
    "tags": []
   },
   "outputs": [],
   "source": [
    "def flow_to_image(i):\n",
    "    np_image=np.concatenate((df.iloc[i],[0]*15)).reshape(9,9)\n",
    "    im=PILImage.create(np_image.astype(np.uint8))\n",
    "    #save the image in correct folder\n",
    "    dest=(path/labels[y_test.iloc[i]]) #dest will be flow_images/benign or flow_images/malign\n",
    "    dest.mkdir(exist_ok=True, parents=True)\n",
    "    im.save(dest/f\"{i}.jpg\")"
   ]
  },
  {
   "cell_type": "code",
   "execution_count": 56,
   "metadata": {
    "tags": []
   },
   "outputs": [
    {
     "data": {
      "text/html": [
       "\n",
       "<style>\n",
       "    /* Turns off some styling */\n",
       "    progress {\n",
       "        /* gets rid of default border in Firefox and Opera. */\n",
       "        border: none;\n",
       "        /* Needs to be in here for Safari polyfill so background images work as expected. */\n",
       "        background-size: auto;\n",
       "    }\n",
       "    progress:not([value]), progress:not([value])::-webkit-progress-bar {\n",
       "        background: repeating-linear-gradient(45deg, #7e7e7e, #7e7e7e 10px, #5c5c5c 10px, #5c5c5c 20px);\n",
       "    }\n",
       "    .progress-bar-interrupted, .progress-bar-interrupted::-webkit-progress-bar {\n",
       "        background: #F44336;\n",
       "    }\n",
       "</style>\n"
      ],
      "text/plain": [
       "<IPython.core.display.HTML object>"
      ]
     },
     "metadata": {},
     "output_type": "display_data"
    },
    {
     "data": {
      "text/html": [],
      "text/plain": [
       "<IPython.core.display.HTML object>"
      ]
     },
     "metadata": {},
     "output_type": "display_data"
    },
    {
     "data": {
      "text/plain": [
       "(#5000) [None,None,None,None,None,None,None,None,None,None...]"
      ]
     },
     "execution_count": 56,
     "metadata": {},
     "output_type": "execute_result"
    }
   ],
   "source": [
    "parallel(f=flow_to_image, \n",
    "                  items=range(df.shape[0]), n_workers=os.cpu_count(), threadpool=False, progress=True)"
   ]
  },
  {
   "cell_type": "code",
   "execution_count": null,
   "metadata": {},
   "outputs": [],
   "source": []
  }
 ],
 "metadata": {
  "kernelspec": {
   "display_name": "Python 3 (ipykernel)",
   "language": "python",
   "name": "python3"
  },
  "language_info": {
   "codemirror_mode": {
    "name": "ipython",
    "version": 3
   },
   "file_extension": ".py",
   "mimetype": "text/x-python",
   "name": "python",
   "nbconvert_exporter": "python",
   "pygments_lexer": "ipython3",
   "version": "3.10.6"
  }
 },
 "nbformat": 4,
 "nbformat_minor": 4
}
