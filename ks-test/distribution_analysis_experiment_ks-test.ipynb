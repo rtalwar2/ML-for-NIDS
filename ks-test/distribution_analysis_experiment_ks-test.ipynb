{
 "cells": [
  {
   "cell_type": "markdown",
   "id": "f76a1608-fe21-4fb8-8d8d-70b10698b3e3",
   "metadata": {},
   "source": [
    "this notebook was used to perform the kolmogorov smirnov test experiment on all features of the NF datasets"
   ]
  },
  {
   "cell_type": "code",
   "execution_count": 1,
   "id": "737b56ad-4424-41ea-ae35-f72955dbba51",
   "metadata": {
    "tags": []
   },
   "outputs": [],
   "source": [
    "import numpy as np # linear algebra\n",
    "import pandas as pd # data processing, CSV file I/O (e.g. pd.read_csv)\n"
   ]
  },
  {
   "cell_type": "code",
   "execution_count": 3,
   "id": "df43738d-1e8e-4d5c-8496-dee08377dff3",
   "metadata": {
    "tags": []
   },
   "outputs": [],
   "source": [
    "from os import cpu_count\n",
    "from math import floor\n",
    "import pandas as pd\n",
    "import numpy as np"
   ]
  },
  {
   "cell_type": "code",
   "execution_count": 4,
   "id": "348c351d-69a9-478f-b56e-818de7d25490",
   "metadata": {
    "tags": []
   },
   "outputs": [],
   "source": [
    "datasets={}\n",
    "for dirname, _, filenames in os.walk('/project_ghent/raman/netflow_datasets'):\n",
    "    for filename in filenames:\n",
    "        if filename.endswith(\"parquet\"):\n",
    "            datasets[filename.replace(\".parquet\",\"\")]=pd.read_parquet(os.path.join(dirname, filename))"
   ]
  },
  {
   "cell_type": "code",
   "execution_count": 5,
   "id": "7c173272-0e88-4b27-80e1-5c831817f028",
   "metadata": {
    "tags": []
   },
   "outputs": [
    {
     "name": "stdout",
     "output_type": "stream",
     "text": [
      "NF-ToN-IoT-V2\n",
      "['ransomware' 'Benign' 'xss' 'scanning' 'password' 'dos' 'ddos'\n",
      " 'injection' 'mitm' 'backdoor']\n",
      "NF-UNSW-NB15-V2\n",
      "['Benign' 'Exploits' 'Generic' 'Fuzzers' 'Backdoor' 'DoS' 'Reconnaissance'\n",
      " 'Shellcode' 'Worms' 'Analysis']\n",
      "NF-BoT-IoT-V2\n",
      "['DoS' 'DDoS' 'Reconnaissance' 'Benign' 'Theft']\n",
      "NF-CSE-CIC-IDS2018-V2\n",
      "['SSH-Bruteforce' 'Benign' 'DDoS attacks-LOIC-HTTP' 'DDOS attack-HOIC'\n",
      " 'DoS attacks-Slowloris' 'DoS attacks-Hulk' 'FTP-BruteForce'\n",
      " 'Infilteration' 'Bot' 'DoS attacks-GoldenEye' 'Brute Force -Web'\n",
      " 'DoS attacks-SlowHTTPTest' 'SQL Injection' 'DDOS attack-LOIC-UDP'\n",
      " 'Brute Force -XSS']\n"
     ]
    }
   ],
   "source": [
    "for k,v in datasets.items():\n",
    "    print(k)\n",
    "    print(v.Attack.unique())"
   ]
  },
  {
   "cell_type": "code",
   "execution_count": 6,
   "id": "e825286a-cee6-45ee-a8be-4f3cb7bf4a0c",
   "metadata": {
    "tags": []
   },
   "outputs": [
    {
     "name": "stderr",
     "output_type": "stream",
     "text": [
      "/tmp/ipykernel_148/3237961987.py:3: SettingWithCopyWarning: \n",
      "A value is trying to be set on a copy of a slice from a DataFrame.\n",
      "Try using .loc[row_indexer,col_indexer] = value instead\n",
      "\n",
      "See the caveats in the documentation: https://pandas.pydata.org/pandas-docs/stable/user_guide/indexing.html#returning-a-view-versus-a-copy\n",
      "  ddos.Attack=\"DDoS\"#uniform name\n",
      "/tmp/ipykernel_148/3237961987.py:5: SettingWithCopyWarning: \n",
      "A value is trying to be set on a copy of a slice from a DataFrame.\n",
      "Try using .loc[row_indexer,col_indexer] = value instead\n",
      "\n",
      "See the caveats in the documentation: https://pandas.pydata.org/pandas-docs/stable/user_guide/indexing.html#returning-a-view-versus-a-copy\n",
      "  dos.Attack=\"DoS\"#uniform name\n",
      "/tmp/ipykernel_148/3237961987.py:6: SettingWithCopyWarning: \n",
      "A value is trying to be set on a copy of a slice from a DataFrame\n",
      "\n",
      "See the caveats in the documentation: https://pandas.pydata.org/pandas-docs/stable/user_guide/indexing.html#returning-a-view-versus-a-copy\n",
      "  dos.drop(index=ddos.index,inplace=True)\n",
      "/tmp/ipykernel_148/3237961987.py:5: SettingWithCopyWarning: \n",
      "A value is trying to be set on a copy of a slice from a DataFrame.\n",
      "Try using .loc[row_indexer,col_indexer] = value instead\n",
      "\n",
      "See the caveats in the documentation: https://pandas.pydata.org/pandas-docs/stable/user_guide/indexing.html#returning-a-view-versus-a-copy\n",
      "  dos.Attack=\"DoS\"#uniform name\n",
      "/tmp/ipykernel_148/3237961987.py:6: SettingWithCopyWarning: \n",
      "A value is trying to be set on a copy of a slice from a DataFrame\n",
      "\n",
      "See the caveats in the documentation: https://pandas.pydata.org/pandas-docs/stable/user_guide/indexing.html#returning-a-view-versus-a-copy\n",
      "  dos.drop(index=ddos.index,inplace=True)\n",
      "/tmp/ipykernel_148/3237961987.py:3: SettingWithCopyWarning: \n",
      "A value is trying to be set on a copy of a slice from a DataFrame.\n",
      "Try using .loc[row_indexer,col_indexer] = value instead\n",
      "\n",
      "See the caveats in the documentation: https://pandas.pydata.org/pandas-docs/stable/user_guide/indexing.html#returning-a-view-versus-a-copy\n",
      "  ddos.Attack=\"DDoS\"#uniform name\n",
      "/tmp/ipykernel_148/3237961987.py:5: SettingWithCopyWarning: \n",
      "A value is trying to be set on a copy of a slice from a DataFrame.\n",
      "Try using .loc[row_indexer,col_indexer] = value instead\n",
      "\n",
      "See the caveats in the documentation: https://pandas.pydata.org/pandas-docs/stable/user_guide/indexing.html#returning-a-view-versus-a-copy\n",
      "  dos.Attack=\"DoS\"#uniform name\n",
      "/tmp/ipykernel_148/3237961987.py:6: SettingWithCopyWarning: \n",
      "A value is trying to be set on a copy of a slice from a DataFrame\n",
      "\n",
      "See the caveats in the documentation: https://pandas.pydata.org/pandas-docs/stable/user_guide/indexing.html#returning-a-view-versus-a-copy\n",
      "  dos.drop(index=ddos.index,inplace=True)\n",
      "/tmp/ipykernel_148/3237961987.py:3: SettingWithCopyWarning: \n",
      "A value is trying to be set on a copy of a slice from a DataFrame.\n",
      "Try using .loc[row_indexer,col_indexer] = value instead\n",
      "\n",
      "See the caveats in the documentation: https://pandas.pydata.org/pandas-docs/stable/user_guide/indexing.html#returning-a-view-versus-a-copy\n",
      "  ddos.Attack=\"DDoS\"#uniform name\n",
      "/tmp/ipykernel_148/3237961987.py:5: SettingWithCopyWarning: \n",
      "A value is trying to be set on a copy of a slice from a DataFrame.\n",
      "Try using .loc[row_indexer,col_indexer] = value instead\n",
      "\n",
      "See the caveats in the documentation: https://pandas.pydata.org/pandas-docs/stable/user_guide/indexing.html#returning-a-view-versus-a-copy\n",
      "  dos.Attack=\"DoS\"#uniform name\n",
      "/tmp/ipykernel_148/3237961987.py:6: SettingWithCopyWarning: \n",
      "A value is trying to be set on a copy of a slice from a DataFrame\n",
      "\n",
      "See the caveats in the documentation: https://pandas.pydata.org/pandas-docs/stable/user_guide/indexing.html#returning-a-view-versus-a-copy\n",
      "  dos.drop(index=ddos.index,inplace=True)\n"
     ]
    }
   ],
   "source": [
    "for ds,data in datasets.items():\n",
    "    ddos=data[data['Attack'].str.contains(\"ddos\",case=False)]\n",
    "    ddos.Attack=\"DDoS\"#uniform name\n",
    "    dos=data[data['Attack'].str.contains(\"dos\",case=False)]\n",
    "    dos.Attack=\"DoS\"#uniform name\n",
    "    dos.drop(index=ddos.index,inplace=True)\n",
    "    benign=data[data['Attack'] == 'Benign']\n",
    "    \n",
    "    data = pd.concat(objs=[ddos, dos, benign])\n",
    "    \n",
    "    # random forest classifier works internally with float32 so values too big will give errors\n",
    "    data = data[data['SRC_TO_DST_SECOND_BYTES'] <= np.finfo(np.float32).max]\n",
    "    data = data[data['DST_TO_SRC_SECOND_BYTES'] <= np.finfo(np.float32).max]\n",
    "    \n",
    "    data=data.drop(columns=['L4_SRC_PORT', 'L4_DST_PORT']) # dropping metadata\n",
    "\n",
    "    \n",
    "    datasets[ds]=data"
   ]
  },
  {
   "cell_type": "code",
   "execution_count": 7,
   "id": "ae8c63fe-2538-4ee5-8893-26fe01c849f3",
   "metadata": {
    "tags": []
   },
   "outputs": [
    {
     "name": "stdout",
     "output_type": "stream",
     "text": [
      "NF-ToN-IoT-V2\n",
      "Attack\n",
      "Benign    3601194\n",
      "DDoS      1746590\n",
      "DoS        654359\n",
      "Name: count, dtype: int64\n",
      "NF-UNSW-NB15-V2\n",
      "Attack\n",
      "Benign    1911666\n",
      "DoS          4172\n",
      "Name: count, dtype: int64\n",
      "NF-BoT-IoT-V2\n",
      "Attack\n",
      "DDoS      14280259\n",
      "DoS       13645057\n",
      "Benign      129437\n",
      "Name: count, dtype: int64\n",
      "NF-CSE-CIC-IDS2018-V2\n",
      "Attack\n",
      "Benign    15101526\n",
      "DDoS       1276019\n",
      "DoS         483999\n",
      "Name: count, dtype: int64\n"
     ]
    }
   ],
   "source": [
    "for k,v in datasets.items():\n",
    "    print(k)\n",
    "    print(v.Attack.value_counts())"
   ]
  },
  {
   "cell_type": "code",
   "execution_count": 8,
   "id": "03f4edd9-06c3-4fea-bc48-70b4388b6033",
   "metadata": {
    "tags": []
   },
   "outputs": [
    {
     "data": {
      "text/plain": [
       "Index(['PROTOCOL', 'L7_PROTO', 'IN_BYTES', 'IN_PKTS', 'OUT_BYTES', 'OUT_PKTS',\n",
       "       'TCP_FLAGS', 'CLIENT_TCP_FLAGS', 'SERVER_TCP_FLAGS',\n",
       "       'FLOW_DURATION_MILLISECONDS', 'DURATION_IN', 'DURATION_OUT', 'MIN_TTL',\n",
       "       'MAX_TTL', 'LONGEST_FLOW_PKT', 'SHORTEST_FLOW_PKT', 'MIN_IP_PKT_LEN',\n",
       "       'MAX_IP_PKT_LEN', 'SRC_TO_DST_SECOND_BYTES', 'DST_TO_SRC_SECOND_BYTES',\n",
       "       'RETRANSMITTED_IN_BYTES', 'RETRANSMITTED_IN_PKTS',\n",
       "       'RETRANSMITTED_OUT_BYTES', 'RETRANSMITTED_OUT_PKTS',\n",
       "       'SRC_TO_DST_AVG_THROUGHPUT', 'DST_TO_SRC_AVG_THROUGHPUT',\n",
       "       'NUM_PKTS_UP_TO_128_BYTES', 'NUM_PKTS_128_TO_256_BYTES',\n",
       "       'NUM_PKTS_256_TO_512_BYTES', 'NUM_PKTS_512_TO_1024_BYTES',\n",
       "       'NUM_PKTS_1024_TO_1514_BYTES', 'TCP_WIN_MAX_IN', 'TCP_WIN_MAX_OUT',\n",
       "       'ICMP_TYPE', 'ICMP_IPV4_TYPE', 'DNS_QUERY_ID', 'DNS_QUERY_TYPE',\n",
       "       'DNS_TTL_ANSWER', 'FTP_COMMAND_RET_CODE'],\n",
       "      dtype='object')"
      ]
     },
     "execution_count": 8,
     "metadata": {},
     "output_type": "execute_result"
    }
   ],
   "source": [
    "features=data.columns[:-2]\n",
    "features"
   ]
  },
  {
   "cell_type": "code",
   "execution_count": 18,
   "id": "1c3b45da-f9ab-4f4b-9c59-e77099218c38",
   "metadata": {
    "tags": []
   },
   "outputs": [],
   "source": [
    "from scipy.stats import kstest\n"
   ]
  },
  {
   "cell_type": "markdown",
   "id": "f9c7c6d7-4558-4186-9ed6-1c733545b807",
   "metadata": {
    "tags": []
   },
   "source": [
    "if the p-value is below 5%: we reject the null hypothesis that the two distributions are the same, with 95% confidence."
   ]
  },
  {
   "cell_type": "markdown",
   "id": "fa722cfb-56e6-4e5d-ae3d-d7fdbecce310",
   "metadata": {},
   "source": [
    "### DoS"
   ]
  },
  {
   "cell_type": "code",
   "execution_count": 21,
   "id": "fe6872e7-3c79-472b-80e8-6959794bb1a6",
   "metadata": {
    "tags": []
   },
   "outputs": [],
   "source": [
    "def evaluate_feature(feature):\n",
    "    data= list(datasets.keys())\n",
    "    result=[]\n",
    "    for i in range(len(data)):\n",
    "        for j in range(i+1,len(data)):\n",
    "            # print(f\"{data[i]} , {data[j]}\")\n",
    "            stat, p_value = kstest(datasets[data[i]][datasets[data[i]].Attack==\"DoS\"][feature], datasets[data[j]][datasets[data[j]].Attack==\"DoS\"][feature])\n",
    "            # if(p_value>0.05):\n",
    "            result.append([f\"{data[i]} , {data[j]}\", feature, stat,p_value])\n",
    "    return result"
   ]
  },
  {
   "cell_type": "code",
   "execution_count": 22,
   "id": "1c1b3e46-d314-46f8-ba34-724cf6029ab1",
   "metadata": {
    "tags": []
   },
   "outputs": [
    {
     "data": {
      "text/html": [
       "\n",
       "<style>\n",
       "    /* Turns off some styling */\n",
       "    progress {\n",
       "        /* gets rid of default border in Firefox and Opera. */\n",
       "        border: none;\n",
       "        /* Needs to be in here for Safari polyfill so background images work as expected. */\n",
       "        background-size: auto;\n",
       "    }\n",
       "    progress:not([value]), progress:not([value])::-webkit-progress-bar {\n",
       "        background: repeating-linear-gradient(45deg, #7e7e7e, #7e7e7e 10px, #5c5c5c 10px, #5c5c5c 20px);\n",
       "    }\n",
       "    .progress-bar-interrupted, .progress-bar-interrupted::-webkit-progress-bar {\n",
       "        background: #F44336;\n",
       "    }\n",
       "</style>\n"
      ],
      "text/plain": [
       "<IPython.core.display.HTML object>"
      ]
     },
     "metadata": {},
     "output_type": "display_data"
    },
    {
     "data": {
      "text/html": [],
      "text/plain": [
       "<IPython.core.display.HTML object>"
      ]
     },
     "metadata": {},
     "output_type": "display_data"
    }
   ],
   "source": [
    "from fastcore.parallel import *\n",
    "from os import cpu_count\n",
    "\n",
    "results = parallel(f=evaluate_feature, items=features, n_workers=cpu_count(), threadpool=True, progress=True)"
   ]
  },
  {
   "cell_type": "code",
   "execution_count": 23,
   "id": "0c5d915f-f28a-48c0-857c-2ad7d3ef3e3b",
   "metadata": {
    "tags": []
   },
   "outputs": [
    {
     "data": {
      "text/plain": [
       "(#39) [[['NF-ToN-IoT-V2 , NF-UNSW-NB15-V2', 'PROTOCOL', 0.7597017770218777, 0.0], ['NF-ToN-IoT-V2 , NF-BoT-IoT-V2', 'PROTOCOL', 0.9236369757090724, 0.0], ['NF-ToN-IoT-V2 , NF-CSE-CIC-IDS2018-V2', 'PROTOCOL', 0.9313221030046198, 0.0], ['NF-UNSW-NB15-V2 , NF-BoT-IoT-V2', 'PROTOCOL', 0.16657182380704127, 1.280836256574538e-101], ['NF-UNSW-NB15-V2 , NF-CSE-CIC-IDS2018-V2', 'PROTOCOL', 0.17425695110258865, 2.6317873488904356e-110], ['NF-BoT-IoT-V2 , NF-CSE-CIC-IDS2018-V2', 'PROTOCOL', 0.007685127295547378, 2.0890943325743977e-24]],[['NF-ToN-IoT-V2 , NF-UNSW-NB15-V2', 'L7_PROTO', 0.5815524055988588, 0.0], ['NF-ToN-IoT-V2 , NF-BoT-IoT-V2', 'L7_PROTO', 0.9886982748991158, 0.0], ['NF-ToN-IoT-V2 , NF-CSE-CIC-IDS2018-V2', 'L7_PROTO', 0.987844592952798, 0.0], ['NF-UNSW-NB15-V2 , NF-BoT-IoT-V2', 'L7_PROTO', 0.5125472722968853, 0.0], ['NF-UNSW-NB15-V2 , NF-CSE-CIC-IDS2018-V2', 'L7_PROTO', 0.48441994247363374, 0.0], ['NF-BoT-IoT-V2 , NF-CSE-CIC-IDS2018-V2', 'L7_PROTO', 0.029043913598867415, 0.0]],[['NF-ToN-IoT-V2 , NF-UNSW-NB15-V2', 'IN_BYTES', 0.9056246109750753, 0.0], ['NF-ToN-IoT-V2 , NF-BoT-IoT-V2', 'IN_BYTES', 0.9276240494261184, 0.0], ['NF-ToN-IoT-V2 , NF-CSE-CIC-IDS2018-V2', 'IN_BYTES', 0.930816893917887, 0.0], ['NF-UNSW-NB15-V2 , NF-BoT-IoT-V2', 'IN_BYTES', 0.8094096576444434, 0.0], ['NF-UNSW-NB15-V2 , NF-CSE-CIC-IDS2018-V2', 'IN_BYTES', 0.5231699621171257, 0.0], ['NF-BoT-IoT-V2 , NF-CSE-CIC-IDS2018-V2', 'IN_BYTES', 0.9696796332439676, 0.0]],[['NF-ToN-IoT-V2 , NF-UNSW-NB15-V2', 'IN_PKTS', 0.9122924109858759, 0.0], ['NF-ToN-IoT-V2 , NF-BoT-IoT-V2', 'IN_PKTS', 0.9102899036353009, 0.0], ['NF-ToN-IoT-V2 , NF-CSE-CIC-IDS2018-V2', 'IN_PKTS', 0.930810781065462, 0.0], ['NF-UNSW-NB15-V2 , NF-BoT-IoT-V2', 'IN_PKTS', 0.77905828233213, 0.0], ['NF-UNSW-NB15-V2 , NF-CSE-CIC-IDS2018-V2', 'IN_PKTS', 0.5261530545582037, 0.0], ['NF-BoT-IoT-V2 , NF-CSE-CIC-IDS2018-V2', 'IN_PKTS', 0.9920200792370256, 0.0]],[['NF-ToN-IoT-V2 , NF-UNSW-NB15-V2', 'OUT_BYTES', 0.767385908345775, 0.0], ['NF-ToN-IoT-V2 , NF-BoT-IoT-V2', 'OUT_BYTES', 0.9142694249967239, 0.0], ['NF-ToN-IoT-V2 , NF-CSE-CIC-IDS2018-V2', 'OUT_BYTES', 0.969257248950058, 0.0], ['NF-UNSW-NB15-V2 , NF-BoT-IoT-V2', 'OUT_BYTES', 0.7956446383298036, 0.0], ['NF-UNSW-NB15-V2 , NF-CSE-CIC-IDS2018-V2', 'OUT_BYTES', 0.6937384809973528, 0.0], ['NF-BoT-IoT-V2 , NF-CSE-CIC-IDS2018-V2', 'OUT_BYTES', 0.9936492663602321, 0.0]],[['NF-ToN-IoT-V2 , NF-UNSW-NB15-V2', 'OUT_PKTS', 0.7724415186214372, 0.0], ['NF-ToN-IoT-V2 , NF-BoT-IoT-V2', 'OUT_PKTS', 0.8157233245352884, 0.0], ['NF-ToN-IoT-V2 , NF-CSE-CIC-IDS2018-V2', 'OUT_PKTS', 0.9809751316309504, 0.0], ['NF-UNSW-NB15-V2 , NF-BoT-IoT-V2', 'OUT_PKTS', 0.7795224191121224, 0.0], ['NF-UNSW-NB15-V2 , NF-CSE-CIC-IDS2018-V2', 'OUT_PKTS', 0.5337440996749205, 0.0], ['NF-BoT-IoT-V2 , NF-CSE-CIC-IDS2018-V2', 'OUT_PKTS', 0.9934545126668801, 0.0]],[['NF-ToN-IoT-V2 , NF-UNSW-NB15-V2', 'TCP_FLAGS', 0.7576311629155069, 0.0], ['NF-ToN-IoT-V2 , NF-BoT-IoT-V2', 'TCP_FLAGS', 0.9236369757090724, 0.0], ['NF-ToN-IoT-V2 , NF-CSE-CIC-IDS2018-V2', 'TCP_FLAGS', 0.9724752649423969, 0.0], ['NF-UNSW-NB15-V2 , NF-BoT-IoT-V2', 'TCP_FLAGS', 0.6659078658969876, 0.0], ['NF-UNSW-NB15-V2 , NF-CSE-CIC-IDS2018-V2', 'TCP_FLAGS', 0.6020548703145522, 0.0], ['NF-BoT-IoT-V2 , NF-CSE-CIC-IDS2018-V2', 'TCP_FLAGS', 0.964698655121096, 0.0]],[['NF-ToN-IoT-V2 , NF-UNSW-NB15-V2', 'CLIENT_TCP_FLAGS', 0.7791899014705039, 0.0], ['NF-ToN-IoT-V2 , NF-BoT-IoT-V2', 'CLIENT_TCP_FLAGS', 0.9236369757090724, 0.0], ['NF-ToN-IoT-V2 , NF-CSE-CIC-IDS2018-V2', 'CLIENT_TCP_FLAGS', 0.9650298346160121, 0.0], ['NF-UNSW-NB15-V2 , NF-BoT-IoT-V2', 'CLIENT_TCP_FLAGS', 0.7791080799175604, 0.0], ['NF-UNSW-NB15-V2 , NF-CSE-CIC-IDS2018-V2', 'CLIENT_TCP_FLAGS', 0.5985069699071528, 0.0], ['NF-BoT-IoT-V2 , NF-CSE-CIC-IDS2018-V2', 'CLIENT_TCP_FLAGS', 0.9649480130630685, 0.0]],[['NF-ToN-IoT-V2 , NF-UNSW-NB15-V2', 'SERVER_TCP_FLAGS', 0.7432587406313449, 0.0], ['NF-ToN-IoT-V2 , NF-BoT-IoT-V2', 'SERVER_TCP_FLAGS', 0.09167001765149285, 0.0], ['NF-ToN-IoT-V2 , NF-CSE-CIC-IDS2018-V2', 'SERVER_TCP_FLAGS', 0.972385260462411, 0.0], ['NF-UNSW-NB15-V2 , NF-BoT-IoT-V2', 'SERVER_TCP_FLAGS', 0.6516624408595458, 0.0], ['NF-UNSW-NB15-V2 , NF-CSE-CIC-IDS2018-V2', 'SERVER_TCP_FLAGS', 0.9942251946801542, 0.0], ['NF-BoT-IoT-V2 , NF-CSE-CIC-IDS2018-V2', 'SERVER_TCP_FLAGS', 0.9644004855155374, 0.0]],[['NF-ToN-IoT-V2 , NF-UNSW-NB15-V2', 'FLOW_DURATION_MILLISECONDS', 0.15280219111239113, 5.461292537455929e-85], ['NF-ToN-IoT-V2 , NF-BoT-IoT-V2', 'FLOW_DURATION_MILLISECONDS', 0.981125807546556, 0.0], ['NF-ToN-IoT-V2 , NF-CSE-CIC-IDS2018-V2', 'FLOW_DURATION_MILLISECONDS', 0.9439967689273889, 0.0], ['NF-UNSW-NB15-V2 , NF-BoT-IoT-V2', 'FLOW_DURATION_MILLISECONDS', 0.8283236164341649, 0.0], ['NF-UNSW-NB15-V2 , NF-CSE-CIC-IDS2018-V2', 'FLOW_DURATION_MILLISECONDS', 0.7911945778149978, 0.0], ['NF-BoT-IoT-V2 , NF-CSE-CIC-IDS2018-V2', 'FLOW_DURATION_MILLISECONDS', 0.9093977088363099, 0.0]]...]"
      ]
     },
     "execution_count": 23,
     "metadata": {},
     "output_type": "execute_result"
    }
   ],
   "source": [
    "results"
   ]
  },
  {
   "cell_type": "code",
   "execution_count": 41,
   "id": "7e3a6490-972e-4895-84b4-4970d293b226",
   "metadata": {
    "tags": []
   },
   "outputs": [],
   "source": [
    "flat_list = [element for sublist in results for element in sublist]"
   ]
  },
  {
   "cell_type": "code",
   "execution_count": 42,
   "id": "5ca51c1a-f5da-4f4d-afea-52ee3df43699",
   "metadata": {
    "tags": []
   },
   "outputs": [
    {
     "data": {
      "text/html": [
       "<div>\n",
       "<style scoped>\n",
       "    .dataframe tbody tr th:only-of-type {\n",
       "        vertical-align: middle;\n",
       "    }\n",
       "\n",
       "    .dataframe tbody tr th {\n",
       "        vertical-align: top;\n",
       "    }\n",
       "\n",
       "    .dataframe thead th {\n",
       "        text-align: right;\n",
       "    }\n",
       "</style>\n",
       "<table border=\"1\" class=\"dataframe\">\n",
       "  <thead>\n",
       "    <tr style=\"text-align: right;\">\n",
       "      <th></th>\n",
       "      <th>datasets</th>\n",
       "      <th>feature</th>\n",
       "      <th>stat</th>\n",
       "      <th>p_value</th>\n",
       "    </tr>\n",
       "  </thead>\n",
       "  <tbody>\n",
       "    <tr>\n",
       "      <th>233</th>\n",
       "      <td>NF-BoT-IoT-V2 , NF-CSE-CIC-IDS2018-V2</td>\n",
       "      <td>FTP_COMMAND_RET_CODE</td>\n",
       "      <td>0.000000</td>\n",
       "      <td>1.0</td>\n",
       "    </tr>\n",
       "    <tr>\n",
       "      <th>133</th>\n",
       "      <td>NF-ToN-IoT-V2 , NF-BoT-IoT-V2</td>\n",
       "      <td>RETRANSMITTED_OUT_BYTES</td>\n",
       "      <td>0.000029</td>\n",
       "      <td>1.0</td>\n",
       "    </tr>\n",
       "    <tr>\n",
       "      <th>139</th>\n",
       "      <td>NF-ToN-IoT-V2 , NF-BoT-IoT-V2</td>\n",
       "      <td>RETRANSMITTED_OUT_PKTS</td>\n",
       "      <td>0.000025</td>\n",
       "      <td>1.0</td>\n",
       "    </tr>\n",
       "    <tr>\n",
       "      <th>175</th>\n",
       "      <td>NF-ToN-IoT-V2 , NF-BoT-IoT-V2</td>\n",
       "      <td>NUM_PKTS_512_TO_1024_BYTES</td>\n",
       "      <td>0.000142</td>\n",
       "      <td>1.0</td>\n",
       "    </tr>\n",
       "    <tr>\n",
       "      <th>230</th>\n",
       "      <td>NF-ToN-IoT-V2 , NF-CSE-CIC-IDS2018-V2</td>\n",
       "      <td>FTP_COMMAND_RET_CODE</td>\n",
       "      <td>0.000000</td>\n",
       "      <td>1.0</td>\n",
       "    </tr>\n",
       "    <tr>\n",
       "      <th>...</th>\n",
       "      <td>...</td>\n",
       "      <td>...</td>\n",
       "      <td>...</td>\n",
       "      <td>...</td>\n",
       "    </tr>\n",
       "    <tr>\n",
       "      <th>87</th>\n",
       "      <td>NF-UNSW-NB15-V2 , NF-BoT-IoT-V2</td>\n",
       "      <td>LONGEST_FLOW_PKT</td>\n",
       "      <td>0.762004</td>\n",
       "      <td>0.0</td>\n",
       "    </tr>\n",
       "    <tr>\n",
       "      <th>88</th>\n",
       "      <td>NF-UNSW-NB15-V2 , NF-CSE-CIC-IDS2018-V2</td>\n",
       "      <td>LONGEST_FLOW_PKT</td>\n",
       "      <td>0.602813</td>\n",
       "      <td>0.0</td>\n",
       "    </tr>\n",
       "    <tr>\n",
       "      <th>89</th>\n",
       "      <td>NF-BoT-IoT-V2 , NF-CSE-CIC-IDS2018-V2</td>\n",
       "      <td>LONGEST_FLOW_PKT</td>\n",
       "      <td>0.964699</td>\n",
       "      <td>0.0</td>\n",
       "    </tr>\n",
       "    <tr>\n",
       "      <th>90</th>\n",
       "      <td>NF-ToN-IoT-V2 , NF-UNSW-NB15-V2</td>\n",
       "      <td>SHORTEST_FLOW_PKT</td>\n",
       "      <td>0.729276</td>\n",
       "      <td>0.0</td>\n",
       "    </tr>\n",
       "    <tr>\n",
       "      <th>117</th>\n",
       "      <td>NF-UNSW-NB15-V2 , NF-BoT-IoT-V2</td>\n",
       "      <td>DST_TO_SRC_SECOND_BYTES</td>\n",
       "      <td>0.793878</td>\n",
       "      <td>0.0</td>\n",
       "    </tr>\n",
       "  </tbody>\n",
       "</table>\n",
       "<p>234 rows × 4 columns</p>\n",
       "</div>"
      ],
      "text/plain": [
       "                                    datasets                     feature   \n",
       "233    NF-BoT-IoT-V2 , NF-CSE-CIC-IDS2018-V2        FTP_COMMAND_RET_CODE  \\\n",
       "133            NF-ToN-IoT-V2 , NF-BoT-IoT-V2     RETRANSMITTED_OUT_BYTES   \n",
       "139            NF-ToN-IoT-V2 , NF-BoT-IoT-V2      RETRANSMITTED_OUT_PKTS   \n",
       "175            NF-ToN-IoT-V2 , NF-BoT-IoT-V2  NUM_PKTS_512_TO_1024_BYTES   \n",
       "230    NF-ToN-IoT-V2 , NF-CSE-CIC-IDS2018-V2        FTP_COMMAND_RET_CODE   \n",
       "..                                       ...                         ...   \n",
       "87           NF-UNSW-NB15-V2 , NF-BoT-IoT-V2            LONGEST_FLOW_PKT   \n",
       "88   NF-UNSW-NB15-V2 , NF-CSE-CIC-IDS2018-V2            LONGEST_FLOW_PKT   \n",
       "89     NF-BoT-IoT-V2 , NF-CSE-CIC-IDS2018-V2            LONGEST_FLOW_PKT   \n",
       "90           NF-ToN-IoT-V2 , NF-UNSW-NB15-V2           SHORTEST_FLOW_PKT   \n",
       "117          NF-UNSW-NB15-V2 , NF-BoT-IoT-V2     DST_TO_SRC_SECOND_BYTES   \n",
       "\n",
       "         stat  p_value  \n",
       "233  0.000000      1.0  \n",
       "133  0.000029      1.0  \n",
       "139  0.000025      1.0  \n",
       "175  0.000142      1.0  \n",
       "230  0.000000      1.0  \n",
       "..        ...      ...  \n",
       "87   0.762004      0.0  \n",
       "88   0.602813      0.0  \n",
       "89   0.964699      0.0  \n",
       "90   0.729276      0.0  \n",
       "117  0.793878      0.0  \n",
       "\n",
       "[234 rows x 4 columns]"
      ]
     },
     "execution_count": 42,
     "metadata": {},
     "output_type": "execute_result"
    }
   ],
   "source": [
    "result_df = pd.DataFrame(data=flat_list, columns=['datasets', 'feature', 'stat', 'p_value']).sort_values(by='p_value', ascending=False)\n",
    "result_df"
   ]
  },
  {
   "cell_type": "code",
   "execution_count": 47,
   "id": "051f1037-b420-4eb8-9f08-777cd0c87e40",
   "metadata": {
    "tags": []
   },
   "outputs": [],
   "source": [
    "result_df.to_csv(\"results_df\",index=False)"
   ]
  },
  {
   "cell_type": "code",
   "execution_count": 4,
   "id": "a46ed7bf-bec5-4dfe-afb8-0ce5868e19ad",
   "metadata": {
    "tags": []
   },
   "outputs": [
    {
     "data": {
      "text/html": [
       "<div>\n",
       "<style scoped>\n",
       "    .dataframe tbody tr th:only-of-type {\n",
       "        vertical-align: middle;\n",
       "    }\n",
       "\n",
       "    .dataframe tbody tr th {\n",
       "        vertical-align: top;\n",
       "    }\n",
       "\n",
       "    .dataframe thead th {\n",
       "        text-align: right;\n",
       "    }\n",
       "</style>\n",
       "<table border=\"1\" class=\"dataframe\">\n",
       "  <thead>\n",
       "    <tr style=\"text-align: right;\">\n",
       "      <th></th>\n",
       "      <th>datasets</th>\n",
       "      <th>feature</th>\n",
       "      <th>stat</th>\n",
       "      <th>p_value</th>\n",
       "    </tr>\n",
       "  </thead>\n",
       "  <tbody>\n",
       "    <tr>\n",
       "      <th>0</th>\n",
       "      <td>NF-BoT-IoT-V2 , NF-CSE-CIC-IDS2018-V2</td>\n",
       "      <td>FTP_COMMAND_RET_CODE</td>\n",
       "      <td>0.000000</td>\n",
       "      <td>1.0</td>\n",
       "    </tr>\n",
       "    <tr>\n",
       "      <th>1</th>\n",
       "      <td>NF-ToN-IoT-V2 , NF-BoT-IoT-V2</td>\n",
       "      <td>RETRANSMITTED_OUT_BYTES</td>\n",
       "      <td>0.000029</td>\n",
       "      <td>1.0</td>\n",
       "    </tr>\n",
       "    <tr>\n",
       "      <th>2</th>\n",
       "      <td>NF-ToN-IoT-V2 , NF-BoT-IoT-V2</td>\n",
       "      <td>RETRANSMITTED_OUT_PKTS</td>\n",
       "      <td>0.000025</td>\n",
       "      <td>1.0</td>\n",
       "    </tr>\n",
       "    <tr>\n",
       "      <th>3</th>\n",
       "      <td>NF-ToN-IoT-V2 , NF-BoT-IoT-V2</td>\n",
       "      <td>NUM_PKTS_512_TO_1024_BYTES</td>\n",
       "      <td>0.000142</td>\n",
       "      <td>1.0</td>\n",
       "    </tr>\n",
       "    <tr>\n",
       "      <th>4</th>\n",
       "      <td>NF-ToN-IoT-V2 , NF-CSE-CIC-IDS2018-V2</td>\n",
       "      <td>FTP_COMMAND_RET_CODE</td>\n",
       "      <td>0.000000</td>\n",
       "      <td>1.0</td>\n",
       "    </tr>\n",
       "    <tr>\n",
       "      <th>...</th>\n",
       "      <td>...</td>\n",
       "      <td>...</td>\n",
       "      <td>...</td>\n",
       "      <td>...</td>\n",
       "    </tr>\n",
       "    <tr>\n",
       "      <th>229</th>\n",
       "      <td>NF-UNSW-NB15-V2 , NF-BoT-IoT-V2</td>\n",
       "      <td>LONGEST_FLOW_PKT</td>\n",
       "      <td>0.762004</td>\n",
       "      <td>0.0</td>\n",
       "    </tr>\n",
       "    <tr>\n",
       "      <th>230</th>\n",
       "      <td>NF-UNSW-NB15-V2 , NF-CSE-CIC-IDS2018-V2</td>\n",
       "      <td>LONGEST_FLOW_PKT</td>\n",
       "      <td>0.602813</td>\n",
       "      <td>0.0</td>\n",
       "    </tr>\n",
       "    <tr>\n",
       "      <th>231</th>\n",
       "      <td>NF-BoT-IoT-V2 , NF-CSE-CIC-IDS2018-V2</td>\n",
       "      <td>LONGEST_FLOW_PKT</td>\n",
       "      <td>0.964699</td>\n",
       "      <td>0.0</td>\n",
       "    </tr>\n",
       "    <tr>\n",
       "      <th>232</th>\n",
       "      <td>NF-ToN-IoT-V2 , NF-UNSW-NB15-V2</td>\n",
       "      <td>SHORTEST_FLOW_PKT</td>\n",
       "      <td>0.729276</td>\n",
       "      <td>0.0</td>\n",
       "    </tr>\n",
       "    <tr>\n",
       "      <th>233</th>\n",
       "      <td>NF-UNSW-NB15-V2 , NF-BoT-IoT-V2</td>\n",
       "      <td>DST_TO_SRC_SECOND_BYTES</td>\n",
       "      <td>0.793878</td>\n",
       "      <td>0.0</td>\n",
       "    </tr>\n",
       "  </tbody>\n",
       "</table>\n",
       "<p>234 rows × 4 columns</p>\n",
       "</div>"
      ],
      "text/plain": [
       "                                    datasets                     feature   \n",
       "0      NF-BoT-IoT-V2 , NF-CSE-CIC-IDS2018-V2        FTP_COMMAND_RET_CODE  \\\n",
       "1              NF-ToN-IoT-V2 , NF-BoT-IoT-V2     RETRANSMITTED_OUT_BYTES   \n",
       "2              NF-ToN-IoT-V2 , NF-BoT-IoT-V2      RETRANSMITTED_OUT_PKTS   \n",
       "3              NF-ToN-IoT-V2 , NF-BoT-IoT-V2  NUM_PKTS_512_TO_1024_BYTES   \n",
       "4      NF-ToN-IoT-V2 , NF-CSE-CIC-IDS2018-V2        FTP_COMMAND_RET_CODE   \n",
       "..                                       ...                         ...   \n",
       "229          NF-UNSW-NB15-V2 , NF-BoT-IoT-V2            LONGEST_FLOW_PKT   \n",
       "230  NF-UNSW-NB15-V2 , NF-CSE-CIC-IDS2018-V2            LONGEST_FLOW_PKT   \n",
       "231    NF-BoT-IoT-V2 , NF-CSE-CIC-IDS2018-V2            LONGEST_FLOW_PKT   \n",
       "232          NF-ToN-IoT-V2 , NF-UNSW-NB15-V2           SHORTEST_FLOW_PKT   \n",
       "233          NF-UNSW-NB15-V2 , NF-BoT-IoT-V2     DST_TO_SRC_SECOND_BYTES   \n",
       "\n",
       "         stat  p_value  \n",
       "0    0.000000      1.0  \n",
       "1    0.000029      1.0  \n",
       "2    0.000025      1.0  \n",
       "3    0.000142      1.0  \n",
       "4    0.000000      1.0  \n",
       "..        ...      ...  \n",
       "229  0.762004      0.0  \n",
       "230  0.602813      0.0  \n",
       "231  0.964699      0.0  \n",
       "232  0.729276      0.0  \n",
       "233  0.793878      0.0  \n",
       "\n",
       "[234 rows x 4 columns]"
      ]
     },
     "execution_count": 4,
     "metadata": {},
     "output_type": "execute_result"
    }
   ],
   "source": [
    "result_df=pd.read_csv(\"results_df\")\n",
    "result_df"
   ]
  },
  {
   "cell_type": "code",
   "execution_count": 5,
   "id": "105441e3-fb86-4b47-b967-43d7a2f4fbc8",
   "metadata": {
    "tags": []
   },
   "outputs": [
    {
     "data": {
      "text/html": [
       "<div>\n",
       "<style scoped>\n",
       "    .dataframe tbody tr th:only-of-type {\n",
       "        vertical-align: middle;\n",
       "    }\n",
       "\n",
       "    .dataframe tbody tr th {\n",
       "        vertical-align: top;\n",
       "    }\n",
       "\n",
       "    .dataframe thead th {\n",
       "        text-align: right;\n",
       "    }\n",
       "</style>\n",
       "<table border=\"1\" class=\"dataframe\">\n",
       "  <thead>\n",
       "    <tr style=\"text-align: right;\">\n",
       "      <th></th>\n",
       "      <th>datasets</th>\n",
       "      <th>feature</th>\n",
       "      <th>stat</th>\n",
       "      <th>p_value</th>\n",
       "    </tr>\n",
       "  </thead>\n",
       "  <tbody>\n",
       "    <tr>\n",
       "      <th>0</th>\n",
       "      <td>NF-BoT-IoT-V2 , NF-CSE-CIC-IDS2018-V2</td>\n",
       "      <td>FTP_COMMAND_RET_CODE</td>\n",
       "      <td>0.000000</td>\n",
       "      <td>1.000000</td>\n",
       "    </tr>\n",
       "    <tr>\n",
       "      <th>1</th>\n",
       "      <td>NF-ToN-IoT-V2 , NF-BoT-IoT-V2</td>\n",
       "      <td>RETRANSMITTED_OUT_BYTES</td>\n",
       "      <td>0.000029</td>\n",
       "      <td>1.000000</td>\n",
       "    </tr>\n",
       "    <tr>\n",
       "      <th>2</th>\n",
       "      <td>NF-ToN-IoT-V2 , NF-BoT-IoT-V2</td>\n",
       "      <td>RETRANSMITTED_OUT_PKTS</td>\n",
       "      <td>0.000025</td>\n",
       "      <td>1.000000</td>\n",
       "    </tr>\n",
       "    <tr>\n",
       "      <th>3</th>\n",
       "      <td>NF-ToN-IoT-V2 , NF-BoT-IoT-V2</td>\n",
       "      <td>NUM_PKTS_512_TO_1024_BYTES</td>\n",
       "      <td>0.000142</td>\n",
       "      <td>1.000000</td>\n",
       "    </tr>\n",
       "    <tr>\n",
       "      <th>4</th>\n",
       "      <td>NF-ToN-IoT-V2 , NF-CSE-CIC-IDS2018-V2</td>\n",
       "      <td>FTP_COMMAND_RET_CODE</td>\n",
       "      <td>0.000000</td>\n",
       "      <td>1.000000</td>\n",
       "    </tr>\n",
       "    <tr>\n",
       "      <th>5</th>\n",
       "      <td>NF-ToN-IoT-V2 , NF-BoT-IoT-V2</td>\n",
       "      <td>FTP_COMMAND_RET_CODE</td>\n",
       "      <td>0.000000</td>\n",
       "      <td>1.000000</td>\n",
       "    </tr>\n",
       "    <tr>\n",
       "      <th>6</th>\n",
       "      <td>NF-BoT-IoT-V2 , NF-CSE-CIC-IDS2018-V2</td>\n",
       "      <td>DNS_QUERY_TYPE</td>\n",
       "      <td>0.000000</td>\n",
       "      <td>1.000000</td>\n",
       "    </tr>\n",
       "    <tr>\n",
       "      <th>7</th>\n",
       "      <td>NF-BoT-IoT-V2 , NF-CSE-CIC-IDS2018-V2</td>\n",
       "      <td>DNS_TTL_ANSWER</td>\n",
       "      <td>0.000000</td>\n",
       "      <td>1.000000</td>\n",
       "    </tr>\n",
       "    <tr>\n",
       "      <th>8</th>\n",
       "      <td>NF-BoT-IoT-V2 , NF-CSE-CIC-IDS2018-V2</td>\n",
       "      <td>DNS_QUERY_ID</td>\n",
       "      <td>0.000000</td>\n",
       "      <td>1.000000</td>\n",
       "    </tr>\n",
       "    <tr>\n",
       "      <th>9</th>\n",
       "      <td>NF-ToN-IoT-V2 , NF-CSE-CIC-IDS2018-V2</td>\n",
       "      <td>NUM_PKTS_1024_TO_1514_BYTES</td>\n",
       "      <td>0.000381</td>\n",
       "      <td>1.000000</td>\n",
       "    </tr>\n",
       "    <tr>\n",
       "      <th>10</th>\n",
       "      <td>NF-ToN-IoT-V2 , NF-BoT-IoT-V2</td>\n",
       "      <td>NUM_PKTS_1024_TO_1514_BYTES</td>\n",
       "      <td>0.000339</td>\n",
       "      <td>1.000000</td>\n",
       "    </tr>\n",
       "    <tr>\n",
       "      <th>11</th>\n",
       "      <td>NF-BoT-IoT-V2 , NF-CSE-CIC-IDS2018-V2</td>\n",
       "      <td>NUM_PKTS_1024_TO_1514_BYTES</td>\n",
       "      <td>0.000645</td>\n",
       "      <td>0.989990</td>\n",
       "    </tr>\n",
       "    <tr>\n",
       "      <th>12</th>\n",
       "      <td>NF-UNSW-NB15-V2 , NF-CSE-CIC-IDS2018-V2</td>\n",
       "      <td>DNS_TTL_ANSWER</td>\n",
       "      <td>0.007191</td>\n",
       "      <td>0.982061</td>\n",
       "    </tr>\n",
       "    <tr>\n",
       "      <th>13</th>\n",
       "      <td>NF-UNSW-NB15-V2 , NF-BoT-IoT-V2</td>\n",
       "      <td>DNS_TTL_ANSWER</td>\n",
       "      <td>0.007191</td>\n",
       "      <td>0.981269</td>\n",
       "    </tr>\n",
       "    <tr>\n",
       "      <th>14</th>\n",
       "      <td>NF-UNSW-NB15-V2 , NF-CSE-CIC-IDS2018-V2</td>\n",
       "      <td>DNS_QUERY_TYPE</td>\n",
       "      <td>0.020614</td>\n",
       "      <td>0.058677</td>\n",
       "    </tr>\n",
       "    <tr>\n",
       "      <th>15</th>\n",
       "      <td>NF-UNSW-NB15-V2 , NF-BoT-IoT-V2</td>\n",
       "      <td>DNS_QUERY_TYPE</td>\n",
       "      <td>0.020614</td>\n",
       "      <td>0.056957</td>\n",
       "    </tr>\n",
       "  </tbody>\n",
       "</table>\n",
       "</div>"
      ],
      "text/plain": [
       "                                   datasets                      feature   \n",
       "0     NF-BoT-IoT-V2 , NF-CSE-CIC-IDS2018-V2         FTP_COMMAND_RET_CODE  \\\n",
       "1             NF-ToN-IoT-V2 , NF-BoT-IoT-V2      RETRANSMITTED_OUT_BYTES   \n",
       "2             NF-ToN-IoT-V2 , NF-BoT-IoT-V2       RETRANSMITTED_OUT_PKTS   \n",
       "3             NF-ToN-IoT-V2 , NF-BoT-IoT-V2   NUM_PKTS_512_TO_1024_BYTES   \n",
       "4     NF-ToN-IoT-V2 , NF-CSE-CIC-IDS2018-V2         FTP_COMMAND_RET_CODE   \n",
       "5             NF-ToN-IoT-V2 , NF-BoT-IoT-V2         FTP_COMMAND_RET_CODE   \n",
       "6     NF-BoT-IoT-V2 , NF-CSE-CIC-IDS2018-V2               DNS_QUERY_TYPE   \n",
       "7     NF-BoT-IoT-V2 , NF-CSE-CIC-IDS2018-V2               DNS_TTL_ANSWER   \n",
       "8     NF-BoT-IoT-V2 , NF-CSE-CIC-IDS2018-V2                 DNS_QUERY_ID   \n",
       "9     NF-ToN-IoT-V2 , NF-CSE-CIC-IDS2018-V2  NUM_PKTS_1024_TO_1514_BYTES   \n",
       "10            NF-ToN-IoT-V2 , NF-BoT-IoT-V2  NUM_PKTS_1024_TO_1514_BYTES   \n",
       "11    NF-BoT-IoT-V2 , NF-CSE-CIC-IDS2018-V2  NUM_PKTS_1024_TO_1514_BYTES   \n",
       "12  NF-UNSW-NB15-V2 , NF-CSE-CIC-IDS2018-V2               DNS_TTL_ANSWER   \n",
       "13          NF-UNSW-NB15-V2 , NF-BoT-IoT-V2               DNS_TTL_ANSWER   \n",
       "14  NF-UNSW-NB15-V2 , NF-CSE-CIC-IDS2018-V2               DNS_QUERY_TYPE   \n",
       "15          NF-UNSW-NB15-V2 , NF-BoT-IoT-V2               DNS_QUERY_TYPE   \n",
       "\n",
       "        stat   p_value  \n",
       "0   0.000000  1.000000  \n",
       "1   0.000029  1.000000  \n",
       "2   0.000025  1.000000  \n",
       "3   0.000142  1.000000  \n",
       "4   0.000000  1.000000  \n",
       "5   0.000000  1.000000  \n",
       "6   0.000000  1.000000  \n",
       "7   0.000000  1.000000  \n",
       "8   0.000000  1.000000  \n",
       "9   0.000381  1.000000  \n",
       "10  0.000339  1.000000  \n",
       "11  0.000645  0.989990  \n",
       "12  0.007191  0.982061  \n",
       "13  0.007191  0.981269  \n",
       "14  0.020614  0.058677  \n",
       "15  0.020614  0.056957  "
      ]
     },
     "execution_count": 5,
     "metadata": {},
     "output_type": "execute_result"
    }
   ],
   "source": [
    "result_df[result_df.p_value>0.05]"
   ]
  },
  {
   "cell_type": "code",
   "execution_count": 11,
   "id": "1653dc5e-a7f7-43bb-bfa7-347221849bc7",
   "metadata": {
    "tags": []
   },
   "outputs": [
    {
     "data": {
      "text/plain": [
       "datasets\n",
       "NF-BoT-IoT-V2 , NF-CSE-CIC-IDS2018-V2      5\n",
       "NF-ToN-IoT-V2 , NF-BoT-IoT-V2              5\n",
       "NF-ToN-IoT-V2 , NF-CSE-CIC-IDS2018-V2      2\n",
       "NF-UNSW-NB15-V2 , NF-BoT-IoT-V2            2\n",
       "NF-UNSW-NB15-V2 , NF-CSE-CIC-IDS2018-V2    2\n",
       "Name: feature, dtype: int64"
      ]
     },
     "execution_count": 11,
     "metadata": {},
     "output_type": "execute_result"
    }
   ],
   "source": [
    "result_df[result_df.p_value>0.05].groupby([\"datasets\"]).feature.count()"
   ]
  },
  {
   "cell_type": "markdown",
   "id": "7c23b815-61b7-4848-9c2d-e25243634efc",
   "metadata": {},
   "source": [
    "### DDoS"
   ]
  },
  {
   "cell_type": "code",
   "execution_count": 21,
   "id": "13bb19a6-6099-4200-8b5b-49e144216976",
   "metadata": {
    "tags": []
   },
   "outputs": [],
   "source": [
    "def evaluate_feature(feature):\n",
    "    data= list(datasets.keys())\n",
    "    result=[]\n",
    "    for i in range(len(data)):\n",
    "        if data[i] in \"NF-UNSW-NB15-V2\":\n",
    "            continue\n",
    "        for j in range(i+1,len(data)):\n",
    "            if data[j] in \"NF-UNSW-NB15-V2\":\n",
    "                continue\n",
    "            # print(f\"{data[i]} , {data[j]}\")\n",
    "            stat, p_value = kstest(datasets[data[i]][datasets[data[i]].Attack==\"DDoS\"][feature], datasets[data[j]][datasets[data[j]].Attack==\"DDoS\"][feature])\n",
    "            # if(p_value>0.05):\n",
    "            result.append([f\"{data[i]} , {data[j]}\", feature, stat,p_value])\n",
    "    return result"
   ]
  },
  {
   "cell_type": "code",
   "execution_count": 22,
   "id": "51a322e5-95c6-4ab6-b3f4-118eced4fed9",
   "metadata": {
    "tags": []
   },
   "outputs": [
    {
     "data": {
      "text/html": [
       "\n",
       "<style>\n",
       "    /* Turns off some styling */\n",
       "    progress {\n",
       "        /* gets rid of default border in Firefox and Opera. */\n",
       "        border: none;\n",
       "        /* Needs to be in here for Safari polyfill so background images work as expected. */\n",
       "        background-size: auto;\n",
       "    }\n",
       "    progress:not([value]), progress:not([value])::-webkit-progress-bar {\n",
       "        background: repeating-linear-gradient(45deg, #7e7e7e, #7e7e7e 10px, #5c5c5c 10px, #5c5c5c 20px);\n",
       "    }\n",
       "    .progress-bar-interrupted, .progress-bar-interrupted::-webkit-progress-bar {\n",
       "        background: #F44336;\n",
       "    }\n",
       "</style>\n"
      ],
      "text/plain": [
       "<IPython.core.display.HTML object>"
      ]
     },
     "metadata": {},
     "output_type": "display_data"
    },
    {
     "data": {
      "text/html": [],
      "text/plain": [
       "<IPython.core.display.HTML object>"
      ]
     },
     "metadata": {},
     "output_type": "display_data"
    }
   ],
   "source": [
    "from fastcore.parallel import *\n",
    "from os import cpu_count\n",
    "results = parallel(f=evaluate_feature, items=features, n_workers=cpu_count(), threadpool=True, progress=True)"
   ]
  },
  {
   "cell_type": "code",
   "execution_count": 29,
   "id": "1d925773-3549-4634-b5b6-5dcd4840413f",
   "metadata": {
    "tags": []
   },
   "outputs": [],
   "source": [
    "flat_list = [element for sublist in results for element in sublist]"
   ]
  },
  {
   "cell_type": "code",
   "execution_count": 24,
   "id": "c358be5b-1a5a-440d-ab36-73a9ec635f55",
   "metadata": {
    "tags": []
   },
   "outputs": [
    {
     "data": {
      "text/html": [
       "<div>\n",
       "<style scoped>\n",
       "    .dataframe tbody tr th:only-of-type {\n",
       "        vertical-align: middle;\n",
       "    }\n",
       "\n",
       "    .dataframe tbody tr th {\n",
       "        vertical-align: top;\n",
       "    }\n",
       "\n",
       "    .dataframe thead th {\n",
       "        text-align: right;\n",
       "    }\n",
       "</style>\n",
       "<table border=\"1\" class=\"dataframe\">\n",
       "  <thead>\n",
       "    <tr style=\"text-align: right;\">\n",
       "      <th></th>\n",
       "      <th>datasets</th>\n",
       "      <th>feature</th>\n",
       "      <th>stat</th>\n",
       "      <th>p_value</th>\n",
       "    </tr>\n",
       "  </thead>\n",
       "  <tbody>\n",
       "    <tr>\n",
       "      <th>116</th>\n",
       "      <td>NF-BoT-IoT-V2 , NF-CSE-CIC-IDS2018-V2</td>\n",
       "      <td>FTP_COMMAND_RET_CODE</td>\n",
       "      <td>0.000000</td>\n",
       "      <td>1.0</td>\n",
       "    </tr>\n",
       "    <tr>\n",
       "      <th>115</th>\n",
       "      <td>NF-ToN-IoT-V2 , NF-CSE-CIC-IDS2018-V2</td>\n",
       "      <td>FTP_COMMAND_RET_CODE</td>\n",
       "      <td>0.000000</td>\n",
       "      <td>1.0</td>\n",
       "    </tr>\n",
       "    <tr>\n",
       "      <th>114</th>\n",
       "      <td>NF-ToN-IoT-V2 , NF-BoT-IoT-V2</td>\n",
       "      <td>FTP_COMMAND_RET_CODE</td>\n",
       "      <td>0.000000</td>\n",
       "      <td>1.0</td>\n",
       "    </tr>\n",
       "    <tr>\n",
       "      <th>113</th>\n",
       "      <td>NF-BoT-IoT-V2 , NF-CSE-CIC-IDS2018-V2</td>\n",
       "      <td>DNS_TTL_ANSWER</td>\n",
       "      <td>0.000000</td>\n",
       "      <td>1.0</td>\n",
       "    </tr>\n",
       "    <tr>\n",
       "      <th>110</th>\n",
       "      <td>NF-BoT-IoT-V2 , NF-CSE-CIC-IDS2018-V2</td>\n",
       "      <td>DNS_QUERY_TYPE</td>\n",
       "      <td>0.000000</td>\n",
       "      <td>1.0</td>\n",
       "    </tr>\n",
       "    <tr>\n",
       "      <th>...</th>\n",
       "      <td>...</td>\n",
       "      <td>...</td>\n",
       "      <td>...</td>\n",
       "      <td>...</td>\n",
       "    </tr>\n",
       "    <tr>\n",
       "      <th>34</th>\n",
       "      <td>NF-ToN-IoT-V2 , NF-CSE-CIC-IDS2018-V2</td>\n",
       "      <td>DURATION_OUT</td>\n",
       "      <td>0.385094</td>\n",
       "      <td>0.0</td>\n",
       "    </tr>\n",
       "    <tr>\n",
       "      <th>33</th>\n",
       "      <td>NF-ToN-IoT-V2 , NF-BoT-IoT-V2</td>\n",
       "      <td>DURATION_OUT</td>\n",
       "      <td>0.710853</td>\n",
       "      <td>0.0</td>\n",
       "    </tr>\n",
       "    <tr>\n",
       "      <th>32</th>\n",
       "      <td>NF-BoT-IoT-V2 , NF-CSE-CIC-IDS2018-V2</td>\n",
       "      <td>DURATION_IN</td>\n",
       "      <td>0.939230</td>\n",
       "      <td>0.0</td>\n",
       "    </tr>\n",
       "    <tr>\n",
       "      <th>31</th>\n",
       "      <td>NF-ToN-IoT-V2 , NF-CSE-CIC-IDS2018-V2</td>\n",
       "      <td>DURATION_IN</td>\n",
       "      <td>0.316822</td>\n",
       "      <td>0.0</td>\n",
       "    </tr>\n",
       "    <tr>\n",
       "      <th>58</th>\n",
       "      <td>NF-ToN-IoT-V2 , NF-CSE-CIC-IDS2018-V2</td>\n",
       "      <td>DST_TO_SRC_SECOND_BYTES</td>\n",
       "      <td>0.703398</td>\n",
       "      <td>0.0</td>\n",
       "    </tr>\n",
       "  </tbody>\n",
       "</table>\n",
       "<p>117 rows × 4 columns</p>\n",
       "</div>"
      ],
      "text/plain": [
       "                                  datasets                  feature      stat   \n",
       "116  NF-BoT-IoT-V2 , NF-CSE-CIC-IDS2018-V2     FTP_COMMAND_RET_CODE  0.000000  \\\n",
       "115  NF-ToN-IoT-V2 , NF-CSE-CIC-IDS2018-V2     FTP_COMMAND_RET_CODE  0.000000   \n",
       "114          NF-ToN-IoT-V2 , NF-BoT-IoT-V2     FTP_COMMAND_RET_CODE  0.000000   \n",
       "113  NF-BoT-IoT-V2 , NF-CSE-CIC-IDS2018-V2           DNS_TTL_ANSWER  0.000000   \n",
       "110  NF-BoT-IoT-V2 , NF-CSE-CIC-IDS2018-V2           DNS_QUERY_TYPE  0.000000   \n",
       "..                                     ...                      ...       ...   \n",
       "34   NF-ToN-IoT-V2 , NF-CSE-CIC-IDS2018-V2             DURATION_OUT  0.385094   \n",
       "33           NF-ToN-IoT-V2 , NF-BoT-IoT-V2             DURATION_OUT  0.710853   \n",
       "32   NF-BoT-IoT-V2 , NF-CSE-CIC-IDS2018-V2              DURATION_IN  0.939230   \n",
       "31   NF-ToN-IoT-V2 , NF-CSE-CIC-IDS2018-V2              DURATION_IN  0.316822   \n",
       "58   NF-ToN-IoT-V2 , NF-CSE-CIC-IDS2018-V2  DST_TO_SRC_SECOND_BYTES  0.703398   \n",
       "\n",
       "     p_value  \n",
       "116      1.0  \n",
       "115      1.0  \n",
       "114      1.0  \n",
       "113      1.0  \n",
       "110      1.0  \n",
       "..       ...  \n",
       "34       0.0  \n",
       "33       0.0  \n",
       "32       0.0  \n",
       "31       0.0  \n",
       "58       0.0  \n",
       "\n",
       "[117 rows x 4 columns]"
      ]
     },
     "execution_count": 24,
     "metadata": {},
     "output_type": "execute_result"
    }
   ],
   "source": [
    "result_df = pd.DataFrame(data=flat_list, columns=['datasets', 'feature', 'stat', 'p_value']).sort_values(by='p_value', ascending=False)\n",
    "result_df"
   ]
  },
  {
   "cell_type": "code",
   "execution_count": null,
   "id": "93d531a2-0701-4669-b5a9-624b5a086ffd",
   "metadata": {
    "tags": []
   },
   "outputs": [],
   "source": [
    "result_df.to_csv(\"results_df_ddos\",index=False)"
   ]
  },
  {
   "cell_type": "code",
   "execution_count": null,
   "id": "e96f5b8b-c4e6-4943-b8d4-0dbe8ccae9b6",
   "metadata": {
    "tags": []
   },
   "outputs": [
    {
     "data": {
      "text/html": [
       "<div>\n",
       "<style scoped>\n",
       "    .dataframe tbody tr th:only-of-type {\n",
       "        vertical-align: middle;\n",
       "    }\n",
       "\n",
       "    .dataframe tbody tr th {\n",
       "        vertical-align: top;\n",
       "    }\n",
       "\n",
       "    .dataframe thead th {\n",
       "        text-align: right;\n",
       "    }\n",
       "</style>\n",
       "<table border=\"1\" class=\"dataframe\">\n",
       "  <thead>\n",
       "    <tr style=\"text-align: right;\">\n",
       "      <th></th>\n",
       "      <th>datasets</th>\n",
       "      <th>feature</th>\n",
       "      <th>stat</th>\n",
       "      <th>p_value</th>\n",
       "    </tr>\n",
       "  </thead>\n",
       "  <tbody>\n",
       "    <tr>\n",
       "      <th>0</th>\n",
       "      <td>NF-BoT-IoT-V2 , NF-CSE-CIC-IDS2018-V2</td>\n",
       "      <td>FTP_COMMAND_RET_CODE</td>\n",
       "      <td>0.000000</td>\n",
       "      <td>1.0</td>\n",
       "    </tr>\n",
       "    <tr>\n",
       "      <th>1</th>\n",
       "      <td>NF-ToN-IoT-V2 , NF-CSE-CIC-IDS2018-V2</td>\n",
       "      <td>FTP_COMMAND_RET_CODE</td>\n",
       "      <td>0.000000</td>\n",
       "      <td>1.0</td>\n",
       "    </tr>\n",
       "    <tr>\n",
       "      <th>2</th>\n",
       "      <td>NF-ToN-IoT-V2 , NF-BoT-IoT-V2</td>\n",
       "      <td>FTP_COMMAND_RET_CODE</td>\n",
       "      <td>0.000000</td>\n",
       "      <td>1.0</td>\n",
       "    </tr>\n",
       "    <tr>\n",
       "      <th>3</th>\n",
       "      <td>NF-BoT-IoT-V2 , NF-CSE-CIC-IDS2018-V2</td>\n",
       "      <td>DNS_TTL_ANSWER</td>\n",
       "      <td>0.000000</td>\n",
       "      <td>1.0</td>\n",
       "    </tr>\n",
       "    <tr>\n",
       "      <th>4</th>\n",
       "      <td>NF-BoT-IoT-V2 , NF-CSE-CIC-IDS2018-V2</td>\n",
       "      <td>DNS_QUERY_TYPE</td>\n",
       "      <td>0.000000</td>\n",
       "      <td>1.0</td>\n",
       "    </tr>\n",
       "    <tr>\n",
       "      <th>...</th>\n",
       "      <td>...</td>\n",
       "      <td>...</td>\n",
       "      <td>...</td>\n",
       "      <td>...</td>\n",
       "    </tr>\n",
       "    <tr>\n",
       "      <th>112</th>\n",
       "      <td>NF-ToN-IoT-V2 , NF-CSE-CIC-IDS2018-V2</td>\n",
       "      <td>DURATION_OUT</td>\n",
       "      <td>0.385094</td>\n",
       "      <td>0.0</td>\n",
       "    </tr>\n",
       "    <tr>\n",
       "      <th>113</th>\n",
       "      <td>NF-ToN-IoT-V2 , NF-BoT-IoT-V2</td>\n",
       "      <td>DURATION_OUT</td>\n",
       "      <td>0.710853</td>\n",
       "      <td>0.0</td>\n",
       "    </tr>\n",
       "    <tr>\n",
       "      <th>114</th>\n",
       "      <td>NF-BoT-IoT-V2 , NF-CSE-CIC-IDS2018-V2</td>\n",
       "      <td>DURATION_IN</td>\n",
       "      <td>0.939230</td>\n",
       "      <td>0.0</td>\n",
       "    </tr>\n",
       "    <tr>\n",
       "      <th>115</th>\n",
       "      <td>NF-ToN-IoT-V2 , NF-CSE-CIC-IDS2018-V2</td>\n",
       "      <td>DURATION_IN</td>\n",
       "      <td>0.316822</td>\n",
       "      <td>0.0</td>\n",
       "    </tr>\n",
       "    <tr>\n",
       "      <th>116</th>\n",
       "      <td>NF-ToN-IoT-V2 , NF-CSE-CIC-IDS2018-V2</td>\n",
       "      <td>DST_TO_SRC_SECOND_BYTES</td>\n",
       "      <td>0.703398</td>\n",
       "      <td>0.0</td>\n",
       "    </tr>\n",
       "  </tbody>\n",
       "</table>\n",
       "<p>117 rows × 4 columns</p>\n",
       "</div>"
      ],
      "text/plain": [
       "                                  datasets                  feature      stat   \n",
       "0    NF-BoT-IoT-V2 , NF-CSE-CIC-IDS2018-V2     FTP_COMMAND_RET_CODE  0.000000  \\\n",
       "1    NF-ToN-IoT-V2 , NF-CSE-CIC-IDS2018-V2     FTP_COMMAND_RET_CODE  0.000000   \n",
       "2            NF-ToN-IoT-V2 , NF-BoT-IoT-V2     FTP_COMMAND_RET_CODE  0.000000   \n",
       "3    NF-BoT-IoT-V2 , NF-CSE-CIC-IDS2018-V2           DNS_TTL_ANSWER  0.000000   \n",
       "4    NF-BoT-IoT-V2 , NF-CSE-CIC-IDS2018-V2           DNS_QUERY_TYPE  0.000000   \n",
       "..                                     ...                      ...       ...   \n",
       "112  NF-ToN-IoT-V2 , NF-CSE-CIC-IDS2018-V2             DURATION_OUT  0.385094   \n",
       "113          NF-ToN-IoT-V2 , NF-BoT-IoT-V2             DURATION_OUT  0.710853   \n",
       "114  NF-BoT-IoT-V2 , NF-CSE-CIC-IDS2018-V2              DURATION_IN  0.939230   \n",
       "115  NF-ToN-IoT-V2 , NF-CSE-CIC-IDS2018-V2              DURATION_IN  0.316822   \n",
       "116  NF-ToN-IoT-V2 , NF-CSE-CIC-IDS2018-V2  DST_TO_SRC_SECOND_BYTES  0.703398   \n",
       "\n",
       "     p_value  \n",
       "0        1.0  \n",
       "1        1.0  \n",
       "2        1.0  \n",
       "3        1.0  \n",
       "4        1.0  \n",
       "..       ...  \n",
       "112      0.0  \n",
       "113      0.0  \n",
       "114      0.0  \n",
       "115      0.0  \n",
       "116      0.0  \n",
       "\n",
       "[117 rows x 4 columns]"
      ]
     },
     "execution_count": 26,
     "metadata": {},
     "output_type": "execute_result"
    }
   ],
   "source": [
    "result_df=pd.read_csv(\"results_df_ddos\")\n",
    "result_df"
   ]
  },
  {
   "cell_type": "code",
   "execution_count": null,
   "id": "0261f876-1f18-4879-84e3-00568eca41c7",
   "metadata": {
    "tags": []
   },
   "outputs": [
    {
     "data": {
      "text/html": [
       "<div>\n",
       "<style scoped>\n",
       "    .dataframe tbody tr th:only-of-type {\n",
       "        vertical-align: middle;\n",
       "    }\n",
       "\n",
       "    .dataframe tbody tr th {\n",
       "        vertical-align: top;\n",
       "    }\n",
       "\n",
       "    .dataframe thead th {\n",
       "        text-align: right;\n",
       "    }\n",
       "</style>\n",
       "<table border=\"1\" class=\"dataframe\">\n",
       "  <thead>\n",
       "    <tr style=\"text-align: right;\">\n",
       "      <th></th>\n",
       "      <th>datasets</th>\n",
       "      <th>feature</th>\n",
       "      <th>stat</th>\n",
       "      <th>p_value</th>\n",
       "    </tr>\n",
       "  </thead>\n",
       "  <tbody>\n",
       "    <tr>\n",
       "      <th>0</th>\n",
       "      <td>NF-BoT-IoT-V2 , NF-CSE-CIC-IDS2018-V2</td>\n",
       "      <td>FTP_COMMAND_RET_CODE</td>\n",
       "      <td>0.000000</td>\n",
       "      <td>1.000000</td>\n",
       "    </tr>\n",
       "    <tr>\n",
       "      <th>1</th>\n",
       "      <td>NF-ToN-IoT-V2 , NF-CSE-CIC-IDS2018-V2</td>\n",
       "      <td>FTP_COMMAND_RET_CODE</td>\n",
       "      <td>0.000000</td>\n",
       "      <td>1.000000</td>\n",
       "    </tr>\n",
       "    <tr>\n",
       "      <th>2</th>\n",
       "      <td>NF-ToN-IoT-V2 , NF-BoT-IoT-V2</td>\n",
       "      <td>FTP_COMMAND_RET_CODE</td>\n",
       "      <td>0.000000</td>\n",
       "      <td>1.000000</td>\n",
       "    </tr>\n",
       "    <tr>\n",
       "      <th>3</th>\n",
       "      <td>NF-BoT-IoT-V2 , NF-CSE-CIC-IDS2018-V2</td>\n",
       "      <td>DNS_TTL_ANSWER</td>\n",
       "      <td>0.000000</td>\n",
       "      <td>1.000000</td>\n",
       "    </tr>\n",
       "    <tr>\n",
       "      <th>4</th>\n",
       "      <td>NF-BoT-IoT-V2 , NF-CSE-CIC-IDS2018-V2</td>\n",
       "      <td>DNS_QUERY_TYPE</td>\n",
       "      <td>0.000000</td>\n",
       "      <td>1.000000</td>\n",
       "    </tr>\n",
       "    <tr>\n",
       "      <th>5</th>\n",
       "      <td>NF-BoT-IoT-V2 , NF-CSE-CIC-IDS2018-V2</td>\n",
       "      <td>DNS_QUERY_ID</td>\n",
       "      <td>0.000000</td>\n",
       "      <td>1.000000</td>\n",
       "    </tr>\n",
       "    <tr>\n",
       "      <th>6</th>\n",
       "      <td>NF-BoT-IoT-V2 , NF-CSE-CIC-IDS2018-V2</td>\n",
       "      <td>RETRANSMITTED_OUT_BYTES</td>\n",
       "      <td>0.000076</td>\n",
       "      <td>1.000000</td>\n",
       "    </tr>\n",
       "    <tr>\n",
       "      <th>7</th>\n",
       "      <td>NF-BoT-IoT-V2 , NF-CSE-CIC-IDS2018-V2</td>\n",
       "      <td>RETRANSMITTED_OUT_PKTS</td>\n",
       "      <td>0.000076</td>\n",
       "      <td>1.000000</td>\n",
       "    </tr>\n",
       "    <tr>\n",
       "      <th>8</th>\n",
       "      <td>NF-BoT-IoT-V2 , NF-CSE-CIC-IDS2018-V2</td>\n",
       "      <td>NUM_PKTS_1024_TO_1514_BYTES</td>\n",
       "      <td>0.000002</td>\n",
       "      <td>1.000000</td>\n",
       "    </tr>\n",
       "    <tr>\n",
       "      <th>9</th>\n",
       "      <td>NF-BoT-IoT-V2 , NF-CSE-CIC-IDS2018-V2</td>\n",
       "      <td>RETRANSMITTED_IN_PKTS</td>\n",
       "      <td>0.000272</td>\n",
       "      <td>0.999995</td>\n",
       "    </tr>\n",
       "  </tbody>\n",
       "</table>\n",
       "</div>"
      ],
      "text/plain": [
       "                                datasets                      feature   \n",
       "0  NF-BoT-IoT-V2 , NF-CSE-CIC-IDS2018-V2         FTP_COMMAND_RET_CODE  \\\n",
       "1  NF-ToN-IoT-V2 , NF-CSE-CIC-IDS2018-V2         FTP_COMMAND_RET_CODE   \n",
       "2          NF-ToN-IoT-V2 , NF-BoT-IoT-V2         FTP_COMMAND_RET_CODE   \n",
       "3  NF-BoT-IoT-V2 , NF-CSE-CIC-IDS2018-V2               DNS_TTL_ANSWER   \n",
       "4  NF-BoT-IoT-V2 , NF-CSE-CIC-IDS2018-V2               DNS_QUERY_TYPE   \n",
       "5  NF-BoT-IoT-V2 , NF-CSE-CIC-IDS2018-V2                 DNS_QUERY_ID   \n",
       "6  NF-BoT-IoT-V2 , NF-CSE-CIC-IDS2018-V2      RETRANSMITTED_OUT_BYTES   \n",
       "7  NF-BoT-IoT-V2 , NF-CSE-CIC-IDS2018-V2       RETRANSMITTED_OUT_PKTS   \n",
       "8  NF-BoT-IoT-V2 , NF-CSE-CIC-IDS2018-V2  NUM_PKTS_1024_TO_1514_BYTES   \n",
       "9  NF-BoT-IoT-V2 , NF-CSE-CIC-IDS2018-V2        RETRANSMITTED_IN_PKTS   \n",
       "\n",
       "       stat   p_value  \n",
       "0  0.000000  1.000000  \n",
       "1  0.000000  1.000000  \n",
       "2  0.000000  1.000000  \n",
       "3  0.000000  1.000000  \n",
       "4  0.000000  1.000000  \n",
       "5  0.000000  1.000000  \n",
       "6  0.000076  1.000000  \n",
       "7  0.000076  1.000000  \n",
       "8  0.000002  1.000000  \n",
       "9  0.000272  0.999995  "
      ]
     },
     "execution_count": 27,
     "metadata": {},
     "output_type": "execute_result"
    }
   ],
   "source": [
    "result_df[result_df.p_value>0.05]"
   ]
  },
  {
   "cell_type": "code",
   "execution_count": null,
   "id": "1cf5c1c8-0219-4155-aad6-a6e99913b2b5",
   "metadata": {
    "tags": []
   },
   "outputs": [
    {
     "data": {
      "text/plain": [
       "datasets\n",
       "NF-BoT-IoT-V2 , NF-CSE-CIC-IDS2018-V2    8\n",
       "NF-ToN-IoT-V2 , NF-BoT-IoT-V2            1\n",
       "NF-ToN-IoT-V2 , NF-CSE-CIC-IDS2018-V2    1\n",
       "Name: feature, dtype: int64"
      ]
     },
     "execution_count": 28,
     "metadata": {},
     "output_type": "execute_result"
    }
   ],
   "source": [
    "result_df[result_df.p_value>0.05].groupby([\"datasets\"]).feature.count()"
   ]
  }
 ],
 "metadata": {
  "kernelspec": {
   "display_name": "Python 3 (ipykernel)",
   "language": "python",
   "name": "python3"
  },
  "language_info": {
   "codemirror_mode": {
    "name": "ipython",
    "version": 3
   },
   "file_extension": ".py",
   "mimetype": "text/x-python",
   "name": "python",
   "nbconvert_exporter": "python",
   "pygments_lexer": "ipython3",
   "version": "3.10.11"
  }
 },
 "nbformat": 4,
 "nbformat_minor": 5
}
