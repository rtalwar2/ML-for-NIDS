{
 "cells": [
  {
   "cell_type": "markdown",
   "id": "7107043e-654d-4204-897f-5cc60bcc0929",
   "metadata": {},
   "source": [
    "This Notebook was used to generate boxplots of all features for the DoS and DDoS attack classes"
   ]
  },
  {
   "cell_type": "code",
   "execution_count": 4,
   "id": "737b56ad-4424-41ea-ae35-f72955dbba51",
   "metadata": {
    "tags": []
   },
   "outputs": [],
   "source": [
    "import numpy as np # linear algebra\n",
    "import pandas as pd # data processing, CSV file I/O (e.g. pd.read_csv)"
   ]
  },
  {
   "cell_type": "code",
   "execution_count": 5,
   "id": "df43738d-1e8e-4d5c-8496-dee08377dff3",
   "metadata": {
    "tags": []
   },
   "outputs": [],
   "source": [
    "from os import cpu_count\n",
    "from math import floor\n",
    "import pandas as pd\n",
    "import numpy as np"
   ]
  },
  {
   "cell_type": "code",
   "execution_count": 6,
   "id": "348c351d-69a9-478f-b56e-818de7d25490",
   "metadata": {
    "tags": []
   },
   "outputs": [],
   "source": [
    "datasets={}\n",
    "for dirname, _, filenames in os.walk('/project_ghent/raman/netflow_datasets'):\n",
    "    for filename in filenames:\n",
    "        if filename.endswith(\"parquet\"):\n",
    "            datasets[filename.replace(\".parquet\",\"\")]=pd.read_parquet(os.path.join(dirname, filename))"
   ]
  },
  {
   "cell_type": "code",
   "execution_count": 7,
   "id": "7c173272-0e88-4b27-80e1-5c831817f028",
   "metadata": {
    "tags": []
   },
   "outputs": [
    {
     "name": "stdout",
     "output_type": "stream",
     "text": [
      "NF-ToN-IoT-V2\n",
      "['ransomware' 'Benign' 'xss' 'scanning' 'password' 'dos' 'ddos'\n",
      " 'injection' 'mitm' 'backdoor']\n",
      "NF-UNSW-NB15-V2\n",
      "['Benign' 'Exploits' 'Generic' 'Fuzzers' 'Backdoor' 'DoS' 'Reconnaissance'\n",
      " 'Shellcode' 'Worms' 'Analysis']\n",
      "NF-BoT-IoT-V2\n",
      "['DoS' 'DDoS' 'Reconnaissance' 'Benign' 'Theft']\n",
      "NF-CSE-CIC-IDS2018-V2\n",
      "['SSH-Bruteforce' 'Benign' 'DDoS attacks-LOIC-HTTP' 'DDOS attack-HOIC'\n",
      " 'DoS attacks-Slowloris' 'DoS attacks-Hulk' 'FTP-BruteForce'\n",
      " 'Infilteration' 'Bot' 'DoS attacks-GoldenEye' 'Brute Force -Web'\n",
      " 'DoS attacks-SlowHTTPTest' 'SQL Injection' 'DDOS attack-LOIC-UDP'\n",
      " 'Brute Force -XSS']\n"
     ]
    }
   ],
   "source": [
    "for k,v in datasets.items():\n",
    "    print(k)\n",
    "    print(v.Attack.unique())"
   ]
  },
  {
   "cell_type": "code",
   "execution_count": 8,
   "id": "e825286a-cee6-45ee-a8be-4f3cb7bf4a0c",
   "metadata": {
    "tags": []
   },
   "outputs": [
    {
     "name": "stderr",
     "output_type": "stream",
     "text": [
      "/tmp/ipykernel_184/3237961987.py:3: SettingWithCopyWarning: \n",
      "A value is trying to be set on a copy of a slice from a DataFrame.\n",
      "Try using .loc[row_indexer,col_indexer] = value instead\n",
      "\n",
      "See the caveats in the documentation: https://pandas.pydata.org/pandas-docs/stable/user_guide/indexing.html#returning-a-view-versus-a-copy\n",
      "  ddos.Attack=\"DDoS\"#uniform name\n",
      "/tmp/ipykernel_184/3237961987.py:5: SettingWithCopyWarning: \n",
      "A value is trying to be set on a copy of a slice from a DataFrame.\n",
      "Try using .loc[row_indexer,col_indexer] = value instead\n",
      "\n",
      "See the caveats in the documentation: https://pandas.pydata.org/pandas-docs/stable/user_guide/indexing.html#returning-a-view-versus-a-copy\n",
      "  dos.Attack=\"DoS\"#uniform name\n",
      "/tmp/ipykernel_184/3237961987.py:6: SettingWithCopyWarning: \n",
      "A value is trying to be set on a copy of a slice from a DataFrame\n",
      "\n",
      "See the caveats in the documentation: https://pandas.pydata.org/pandas-docs/stable/user_guide/indexing.html#returning-a-view-versus-a-copy\n",
      "  dos.drop(index=ddos.index,inplace=True)\n",
      "/tmp/ipykernel_184/3237961987.py:5: SettingWithCopyWarning: \n",
      "A value is trying to be set on a copy of a slice from a DataFrame.\n",
      "Try using .loc[row_indexer,col_indexer] = value instead\n",
      "\n",
      "See the caveats in the documentation: https://pandas.pydata.org/pandas-docs/stable/user_guide/indexing.html#returning-a-view-versus-a-copy\n",
      "  dos.Attack=\"DoS\"#uniform name\n",
      "/tmp/ipykernel_184/3237961987.py:6: SettingWithCopyWarning: \n",
      "A value is trying to be set on a copy of a slice from a DataFrame\n",
      "\n",
      "See the caveats in the documentation: https://pandas.pydata.org/pandas-docs/stable/user_guide/indexing.html#returning-a-view-versus-a-copy\n",
      "  dos.drop(index=ddos.index,inplace=True)\n",
      "/tmp/ipykernel_184/3237961987.py:3: SettingWithCopyWarning: \n",
      "A value is trying to be set on a copy of a slice from a DataFrame.\n",
      "Try using .loc[row_indexer,col_indexer] = value instead\n",
      "\n",
      "See the caveats in the documentation: https://pandas.pydata.org/pandas-docs/stable/user_guide/indexing.html#returning-a-view-versus-a-copy\n",
      "  ddos.Attack=\"DDoS\"#uniform name\n",
      "/tmp/ipykernel_184/3237961987.py:5: SettingWithCopyWarning: \n",
      "A value is trying to be set on a copy of a slice from a DataFrame.\n",
      "Try using .loc[row_indexer,col_indexer] = value instead\n",
      "\n",
      "See the caveats in the documentation: https://pandas.pydata.org/pandas-docs/stable/user_guide/indexing.html#returning-a-view-versus-a-copy\n",
      "  dos.Attack=\"DoS\"#uniform name\n",
      "/tmp/ipykernel_184/3237961987.py:6: SettingWithCopyWarning: \n",
      "A value is trying to be set on a copy of a slice from a DataFrame\n",
      "\n",
      "See the caveats in the documentation: https://pandas.pydata.org/pandas-docs/stable/user_guide/indexing.html#returning-a-view-versus-a-copy\n",
      "  dos.drop(index=ddos.index,inplace=True)\n",
      "/tmp/ipykernel_184/3237961987.py:3: SettingWithCopyWarning: \n",
      "A value is trying to be set on a copy of a slice from a DataFrame.\n",
      "Try using .loc[row_indexer,col_indexer] = value instead\n",
      "\n",
      "See the caveats in the documentation: https://pandas.pydata.org/pandas-docs/stable/user_guide/indexing.html#returning-a-view-versus-a-copy\n",
      "  ddos.Attack=\"DDoS\"#uniform name\n",
      "/tmp/ipykernel_184/3237961987.py:5: SettingWithCopyWarning: \n",
      "A value is trying to be set on a copy of a slice from a DataFrame.\n",
      "Try using .loc[row_indexer,col_indexer] = value instead\n",
      "\n",
      "See the caveats in the documentation: https://pandas.pydata.org/pandas-docs/stable/user_guide/indexing.html#returning-a-view-versus-a-copy\n",
      "  dos.Attack=\"DoS\"#uniform name\n",
      "/tmp/ipykernel_184/3237961987.py:6: SettingWithCopyWarning: \n",
      "A value is trying to be set on a copy of a slice from a DataFrame\n",
      "\n",
      "See the caveats in the documentation: https://pandas.pydata.org/pandas-docs/stable/user_guide/indexing.html#returning-a-view-versus-a-copy\n",
      "  dos.drop(index=ddos.index,inplace=True)\n"
     ]
    }
   ],
   "source": [
    "for ds,data in datasets.items():\n",
    "    ddos=data[data['Attack'].str.contains(\"ddos\",case=False)]\n",
    "    ddos.Attack=\"DDoS\"#uniform name\n",
    "    dos=data[data['Attack'].str.contains(\"dos\",case=False)]\n",
    "    dos.Attack=\"DoS\"#uniform name\n",
    "    dos.drop(index=ddos.index,inplace=True)\n",
    "    benign=data[data['Attack'] == 'Benign']\n",
    "    \n",
    "    data = pd.concat(objs=[ddos, dos, benign])\n",
    "    \n",
    "    # random forest classifier works internally with float32 so values too big will give errors\n",
    "    data = data[data['SRC_TO_DST_SECOND_BYTES'] <= np.finfo(np.float32).max]\n",
    "    data = data[data['DST_TO_SRC_SECOND_BYTES'] <= np.finfo(np.float32).max]\n",
    "    \n",
    "    data=data.drop(columns=['L4_SRC_PORT', 'L4_DST_PORT']) # dropping metadata\n",
    "\n",
    "    \n",
    "    datasets[ds]=data"
   ]
  },
  {
   "cell_type": "code",
   "execution_count": 9,
   "id": "ae8c63fe-2538-4ee5-8893-26fe01c849f3",
   "metadata": {
    "tags": []
   },
   "outputs": [
    {
     "name": "stdout",
     "output_type": "stream",
     "text": [
      "NF-ToN-IoT-V2\n",
      "Attack\n",
      "Benign    3601194\n",
      "DDoS      1746590\n",
      "DoS        654359\n",
      "Name: count, dtype: int64\n",
      "NF-UNSW-NB15-V2\n",
      "Attack\n",
      "Benign    1911666\n",
      "DoS          4172\n",
      "Name: count, dtype: int64\n",
      "NF-BoT-IoT-V2\n",
      "Attack\n",
      "DDoS      14280259\n",
      "DoS       13645057\n",
      "Benign      129437\n",
      "Name: count, dtype: int64\n",
      "NF-CSE-CIC-IDS2018-V2\n",
      "Attack\n",
      "Benign    15101526\n",
      "DDoS       1276019\n",
      "DoS         483999\n",
      "Name: count, dtype: int64\n"
     ]
    }
   ],
   "source": [
    "for k,v in datasets.items():\n",
    "    print(k)\n",
    "    print(v.Attack.value_counts())"
   ]
  },
  {
   "cell_type": "code",
   "execution_count": null,
   "id": "b0f7e166-8d75-465b-a32a-80237c519265",
   "metadata": {
    "tags": []
   },
   "outputs": [],
   "source": [
    "import matplotlib.pyplot as plt"
   ]
  },
  {
   "cell_type": "code",
   "execution_count": null,
   "id": "ea41d068-af5d-49d3-8d2c-2324055dca2a",
   "metadata": {
    "tags": []
   },
   "outputs": [],
   "source": [
    "for feature in data.columns[:-2]:\n",
    "    # Create a figure with two subplots\n",
    "    fig, (ax1, ax2) = plt.subplots(ncols=2, figsize=(15, 5))\n",
    "\n",
    "    # Plot the DoS boxplot on the first subplot\n",
    "    boxplot_dict1 = ax1.boxplot([value[value.Attack==\"DoS\"][feature] for value in datasets.values()])\n",
    "\n",
    "    # Set the title, xlabel, and ylabel for the first subplot\n",
    "    ax1.set_title(f\"dos: {feature}\")\n",
    "    ax1.set_xlabel(\"dataset\")\n",
    "    ax1.set_ylabel(feature)\n",
    "\n",
    "    # Set the x-axis tick labels for the first subplot\n",
    "    ax1.set_xticklabels(datasets.keys())\n",
    "\n",
    "    # Plot the DDoS boxplot on the second subplot\n",
    "    boxplot_dict2 = ax2.boxplot([value[value.Attack==\"DDoS\"][feature] for value in datasets.values()])\n",
    "\n",
    "    # Set the title, xlabel, and ylabel for the second subplot\n",
    "    ax2.set_title(f\"ddos: {feature}\")\n",
    "    ax2.set_xlabel(\"dataset\")\n",
    "    ax2.set_ylabel(feature)\n",
    "\n",
    "    # Set the x-axis tick labels for the second subplot\n",
    "    ax2.set_xticklabels(datasets.keys())\n",
    "\n",
    "    # Display the plot\n",
    "    plt.show()\n",
    "    fig.savefig(f\"./plots/{feature}.png\")"
   ]
  }
 ],
 "metadata": {
  "kernelspec": {
   "display_name": "Python 3 (ipykernel)",
   "language": "python",
   "name": "python3"
  },
  "language_info": {
   "codemirror_mode": {
    "name": "ipython",
    "version": 3
   },
   "file_extension": ".py",
   "mimetype": "text/x-python",
   "name": "python",
   "nbconvert_exporter": "python",
   "pygments_lexer": "ipython3",
   "version": "3.10.11"
  }
 },
 "nbformat": 4,
 "nbformat_minor": 5
}
